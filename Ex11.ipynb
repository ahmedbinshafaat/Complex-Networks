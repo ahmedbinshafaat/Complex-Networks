{
 "cells": [
  {
   "cell_type": "markdown",
   "metadata": {
    "deletable": false,
    "editable": false,
    "nbgrader": {
     "cell_type": "markdown",
     "checksum": "6c72be95fb2649edb7367ea6cb8029a8",
     "grade": false,
     "grade_id": "cell-2f7d49e6bc20ba56",
     "locked": true,
     "schema_version": 3,
     "solution": false,
     "task": false
    }
   },
   "source": [
    "# Round 7-1: Weight–topology correlations in social networks\n",
    "\n",
    "In this exercise, we will do some weighted network analysis using a social network data set describing private messaging in a Facebook-like web-page (Data originally from http://toreopsahl.com/datasets/ ).\n",
    "In the network, each node corresponds to a user of the website and link weights describe the total number of messages exchanged between users. \n",
    "\n",
    "In the file `OClinks_w_undir.edg`, the three entries of each row describe one link:\n",
    "`(node_i node_j w_ij)`,\n",
    "where the last entry `w_ij` is the weight of the link between nodes `node_i` and `node_j`.\n",
    "\n",
    "You can use this notebook or the accompanying Python template (weight_topology_correlations.py) to get started. The notebook and template have some functions that will help you. Do NOT modify these functions. You may start modifying the code after the header **\"Begin of the exercise\"**.\n",
    "\n",
    "`scipy.stats.binned_statistic` function is especially useful throughout this exercise."
   ]
  },
  {
   "cell_type": "code",
   "execution_count": 216,
   "metadata": {
    "deletable": false,
    "editable": false,
    "nbgrader": {
     "cell_type": "code",
     "checksum": "1f83e6573939ae8eb4ac2ed63dfc2458",
     "grade": false,
     "grade_id": "cell-946dc41ddaf21d69",
     "locked": true,
     "schema_version": 3,
     "solution": false,
     "task": false
    }
   },
   "outputs": [],
   "source": [
    "import matplotlib.pyplot as plt\n",
    "import numpy as np\n",
    "import networkx as nx\n",
    "from scipy.stats import binned_statistic"
   ]
  },
  {
   "cell_type": "code",
   "execution_count": 217,
   "metadata": {
    "deletable": false,
    "editable": false,
    "nbgrader": {
     "cell_type": "code",
     "checksum": "2d91b918ea1bfcbbc7a3a0a707c6333a",
     "grade": false,
     "grade_id": "cell-05312c9c27e08f6c",
     "locked": true,
     "schema_version": 3,
     "solution": false,
     "task": false
    }
   },
   "outputs": [],
   "source": [
    "def create_linbins(start, end, n_bins):\n",
    "    \"\"\"\n",
    "    Creates a set of linear bins.\n",
    "\n",
    "    Parameters\n",
    "    -----------\n",
    "    start: minimum value of data, int\n",
    "    end: maximum value of data, int\n",
    "    n_bins: number of bins, int\n",
    "\n",
    "    Returns\n",
    "    --------\n",
    "    bins: a list of linear bin edges\n",
    "    \"\"\"\n",
    "    bins = np.linspace(start, end, n_bins)\n",
    "    return bins"
   ]
  },
  {
   "cell_type": "code",
   "execution_count": 218,
   "metadata": {
    "deletable": false,
    "editable": false,
    "nbgrader": {
     "cell_type": "code",
     "checksum": "4f7b55ffc25760bc82118555e1cf81c4",
     "grade": false,
     "grade_id": "cell-52953fa1bfac57d3",
     "locked": true,
     "schema_version": 3,
     "solution": false,
     "task": false
    }
   },
   "outputs": [],
   "source": [
    "def create_logbins(start, end, n_log, n_lin=0):\n",
    "    \"\"\"\n",
    "    Creates a combination of linear and logarithmic bins: n_lin linear bins \n",
    "    of width 1 starting from start and n_log logarithmic bins further to\n",
    "    max.\n",
    "\n",
    "    Parameters\n",
    "    -----------\n",
    "    start: starting point for linear bins, float\n",
    "    end: maximum value of data, int\n",
    "    n_log: number of logarithmic bins, int\n",
    "    n_lin: number of linear bins, int\n",
    "\n",
    "    Returns\n",
    "    -------\n",
    "    bins: a list of bin edges\n",
    "    \"\"\"\n",
    "    if n_lin == 0:\n",
    "        bins = np.logspace(np.log10(start), np.log10(end), n_log)\n",
    "    elif n_lin > 0:\n",
    "        bins = np.array([start + i for i in range(n_lin)] + list(np.logspace(np.log10(start + n_lin), np.log10(end), n_log)))\n",
    "    return bins"
   ]
  },
  {
   "cell_type": "markdown",
   "metadata": {
    "deletable": false,
    "editable": false,
    "nbgrader": {
     "cell_type": "markdown",
     "checksum": "0bc66251dabca7c2c5e74b0866d33e13",
     "grade": false,
     "grade_id": "cell-55466d6baf6a3ffb",
     "locked": true,
     "schema_version": 3,
     "solution": false,
     "task": false
    }
   },
   "source": [
    "## Data\n",
    "Let us load the data from the right directory and assign the names for all the plots we will save. If you run this notebook in your machine, please specify the right directory."
   ]
  },
  {
   "cell_type": "code",
   "execution_count": 219,
   "metadata": {},
   "outputs": [
    {
     "name": "stdout",
     "output_type": "stream",
     "text": [
      "The data directory is /coursedata\n"
     ]
    }
   ],
   "source": [
    "# Select data directory\n",
    "import os\n",
    "if os.path.isdir('/coursedata'):\n",
    "    course_data_dir = '/coursedata'\n",
    "elif os.path.isdir('../data'):\n",
    "    course_data_dir = '../data'\n",
    "else:\n",
    "    # Specify course_data_dir on your machine\n",
    "    course_data_dir = 'some_path'\n",
    "\n",
    "print('The data directory is %s' % course_data_dir)\n",
    "\n",
    "network_path = os.path.join(course_data_dir, 'OClinks_w_undir.edg')\n",
    "\n",
    "net_name = 'fb_like'\n",
    "# TODO: replace with a path where to save the 1-CDF plot\n",
    "path = './ccdfs_' + net_name + '.pdf'\n",
    "# TODO: replace with a base path where to save the average link weight scatter\n",
    "# A scale-related suffix will be added to this base path so the figures will not overwritten\n",
    "base_path = './s_per_k_vs_k_'\n",
    "# TODO: replace with a base path where to save the link neighborhood overlap plot\n",
    "save_path_linkneighborhoodplot = './O_vs_w_' + net_name + '.pdf'"
   ]
  },
  {
   "cell_type": "code",
   "execution_count": 220,
   "metadata": {
    "deletable": false,
    "editable": false,
    "nbgrader": {
     "cell_type": "code",
     "checksum": "7f884566de7dae77f65139b798bfa5c8",
     "grade": false,
     "grade_id": "cell-08df57adbbab6c11",
     "locked": true,
     "schema_version": 3,
     "solution": false,
     "task": false
    }
   },
   "outputs": [],
   "source": [
    "#Let's read the network file\n",
    "network = nx.read_weighted_edgelist(network_path)"
   ]
  },
  {
   "cell_type": "markdown",
   "metadata": {
    "deletable": false,
    "editable": false,
    "nbgrader": {
     "cell_type": "markdown",
     "checksum": "9f1626a9faf2a1466eda35e34162dbbe",
     "grade": false,
     "grade_id": "cell-361090f1757159ea",
     "locked": true,
     "schema_version": 3,
     "solution": false,
     "task": false
    }
   },
   "source": [
    "# Begin of the exercise\n",
    "Write your code here to analyze the social network dataset. "
   ]
  },
  {
   "cell_type": "markdown",
   "metadata": {
    "deletable": false,
    "editable": false,
    "nbgrader": {
     "cell_type": "markdown",
     "checksum": "0fbaa8af2a765735d88c1817d9b4aece",
     "grade": false,
     "grade_id": "cell-15cf3d1fca11bf11",
     "locked": true,
     "schema_version": 3,
     "solution": false,
     "task": false
    }
   },
   "source": [
    "### a. Complementary cumulative distribution\n",
    "\n",
    "Before performing more sophisticated analysis, it is always good to get some idea on what the network is like. To this end, plot the complementary cumulative distribution (1-CDF) for node degree $k$, node strength $s$ and link weight $w$.\n",
    "\n",
    "- Show all three distributions in one plot using loglog-scale.\n",
    "- Based on the plots, roughly estimate the 90th percentiles of the degree, strength, and weight distributions.\n",
    "\n",
    "To achieve this, you will need to modify two functions: `get_link_weights` and  `plot_ccdf` first.\n",
    "\n",
    "**Hints**:\n",
    "- See the binning tutorial for help on computing the 1-CDFs.\n",
    "- For getting node strengths, use `strengths = nx.degree(net, weight=\"weight\")`\n",
    "- As a check, calculate the maximum degree $k_\\mathrm{max}$ and maximum strength $s_\\mathrm{max}$. If everything is running okay so far, you should be getting $k_\\mathrm{max}$ = 255 and $s_\\mathrm{max}$ = 1546.0."
   ]
  },
  {
   "cell_type": "code",
   "execution_count": 224,
   "metadata": {
    "deletable": false,
    "nbgrader": {
     "cell_type": "code",
     "checksum": "e2aebbe3986bb9c4772ba27ca7160a7f",
     "grade": true,
     "grade_id": "cell-f9ed208ab070cc46",
     "locked": false,
     "points": 0,
     "schema_version": 3,
     "solution": true,
     "task": false
    }
   },
   "outputs": [],
   "source": [
    "def get_link_weights(net):\n",
    "\n",
    "    \"\"\"\n",
    "    Returns a list of link weights in the network.\n",
    "\n",
    "    Parameters\n",
    "    -----------\n",
    "    net: a networkx.Graph() object\n",
    "\n",
    "    Returns\n",
    "    --------\n",
    "    weights: list of link weights in net\n",
    "    \"\"\"\n",
    "\n",
    "    # TODO: write a function to get weights of the links\n",
    "    # Hints:\n",
    "    # to get the links with their weight data, use net.edges(data=True)\n",
    "    # to get weight of a single link, use (i, j, data) for each edge,\n",
    "    # weight = data['weight']\n",
    "    weights = []\n",
    "    edges = network.edges(data=True)\n",
    "    for edge in edges:\n",
    "        (i,j, data)=edge\n",
    "        weights.append(data['weight'])\n",
    "        #weights.append(edge[2]['weight'])\n",
    "    # YOUR CODE HERE\n",
    "    #raise NotImplementedError()\n",
    "    return weights"
   ]
  },
  {
   "cell_type": "code",
   "execution_count": 225,
   "metadata": {
    "deletable": false,
    "nbgrader": {
     "cell_type": "code",
     "checksum": "3dc3ef1c9d3b463a5186b292782f484c",
     "grade": true,
     "grade_id": "cell-fb50dc49af3c95f5",
     "locked": false,
     "points": 0,
     "schema_version": 3,
     "solution": true,
     "task": false
    }
   },
   "outputs": [],
   "source": [
    "def plot_ccdf(datavecs, labels, xlabel, ylabel, num):\n",
    "\n",
    "    \"\"\"\n",
    "    Plots in a single figure the complementary cumulative distributions (1-CDFs)\n",
    "    of the given data vectors.\n",
    "\n",
    "    Parameters\n",
    "    -----------\n",
    "    datavecs: data vectors to plot, a list of iterables\n",
    "    labels: labels for the data vectors, list of strings\n",
    "    styles = styles in which plot the distributions, list of strings\n",
    "    xlabel: x label for the figure, string\n",
    "    ylabel: y label for the figure, string\n",
    "    num: an id of the figure, int or string\n",
    "    \"\"\"\n",
    "    styles = ['-', '--', '-.']\n",
    "    fig = plt.figure(num)\n",
    "    ax = fig.add_subplot(111)\n",
    "    for datavec, label, style in zip(datavecs,labels, styles):\n",
    "        # TODO: calculate 1-CDF of datavec and plot it with ax.loglog()\n",
    "        datavec=np.array(datavec)\n",
    "        sorted_datavec = sorted(datavec)\n",
    "        n=float(len(datavec))\n",
    "        cdf=np.zeros(len(sorted_datavec))\n",
    "        for i, val in enumerate(sorted_datavec):\n",
    "            #cdf.append(np.sum(val >= x for x in sorted_datavec)/n)\n",
    "            cdf[i]=np.sum(datavec >= val)/n\n",
    "        #cdf = ((1-x) for x in cdf)\n",
    "        ax.loglog(sorted_datavec, cdf, style, label=label )\n",
    "        ax.set_xlabel(label)\n",
    "        ax.set_ylabel(label)\n",
    "        #raise NotImplementedError()\n",
    "    ax.set_xlabel(xlabel)\n",
    "    ax.set_ylabel(ylabel)\n",
    "    ax.legend(loc=0)\n",
    "    ax.grid()\n",
    "\n",
    "    return fig"
   ]
  },
  {
   "cell_type": "code",
   "execution_count": 226,
   "metadata": {
    "deletable": false,
    "nbgrader": {
     "cell_type": "code",
     "checksum": "53e105babd9ae20cdf7e70d9292228d1",
     "grade": true,
     "grade_id": "cell-636bc96b6f9b2fed",
     "locked": false,
     "points": 3,
     "schema_version": 3,
     "solution": true,
     "task": false
    }
   },
   "outputs": [
    {
     "name": "stdout",
     "output_type": "stream",
     "text": [
      "Maximum degree: 255\n",
      "Maximum strength: 1546.0\n",
      "1-CDF figure saved to ./ccdfs_fb_like.pdf\n"
     ]
    },
    {
     "data": {
      "image/png": "[encoded data removed]",
      "text/plain": [
       "<Figure size 432x288 with 1 Axes>"
      ]
     },
     "metadata": {
      "needs_background": "light"
     },
     "output_type": "display_data"
    }
   ],
   "source": [
    "# Get the node degrees and strengths\n",
    "degrees = list(network.degree(network.nodes()))\n",
    "strengths = nx.degree(network, weight=\"weight\")\n",
    "# TODO: get network degrees\n",
    "# TODO: get network strength\n",
    "\n",
    "# YOUR CODE HERE\n",
    "#raise NotImplementedError()\n",
    "\n",
    "# Now, convert the degree and strength into lists.\n",
    "degree_vec = [d for n, d in degrees]\n",
    "strength_vec = [s for n, s in strengths]\n",
    "# Check the maxmimum degree and strength\n",
    "print('Maximum degree: %d' % max(degree_vec))\n",
    "print('Maximum strength: %.1f' % max(strength_vec))\n",
    "\n",
    "# Then, compute the weights\n",
    "weights = get_link_weights(network)\n",
    "\n",
    "# Now let's create 1-CDF plots\n",
    "datavecs = [degree_vec, strength_vec, weights]\n",
    "num = 'a)' + net_name # figure identifier\n",
    "\n",
    "# TODO: Set appropriate labels\n",
    "labels = ['degree ', 'strength ', 'weight ']\n",
    "xlabel = 'Data Points '\n",
    "ylabel = '1 - CDF '\n",
    "\n",
    "fig = plot_ccdf(datavecs, labels, xlabel, ylabel, num)\n",
    "fig.savefig(path)\n",
    "print('1-CDF figure saved to ' + path)"
   ]
  },
  {
   "cell_type": "markdown",
   "metadata": {
    "deletable": false,
    "editable": false,
    "nbgrader": {
     "cell_type": "markdown",
     "checksum": "514362c5b6e561b2984eb27e7f20707b",
     "grade": false,
     "grade_id": "cell-52c85a234f7d87e3",
     "locked": true,
     "schema_version": 3,
     "solution": false,
     "task": false
    }
   },
   "source": [
    "### b. Average link weight per node\n",
    "Next, we will study how the average link weight per node $\\langle w \\rangle =\\frac{s}{k}$ behaves as a function of the node degree $k$. \n",
    "\n",
    "- Compute $s$, $k$, and $\\langle w \\rangle = \\frac{s}{k}$ for each node.\n",
    "\n",
    "- Make a scatter plot of all the data points of $\\langle w \\rangle$ as a function of $k$. Create two versions of the plots: one with linear and one with logarithmic $x$-axes.\n",
    "\n",
    "- The large variance of the data can make the scatter plots a bit messy. To make the relationship between $\\langle w \\rangle$ and $k$ more visible, create bin-averaged versions of the plots, i.e., divide nodes into bins based on their degree and calculate the average $\\langle w \\rangle$ in each bin. Plot the bin-averaged versions on top of the scatter plots.\n",
    "\n",
    "- Based on the plots, which of the two approaches (linear or logarithmic $x$-axes) suits better for presenting $\\langle w \\rangle$ as a function of $k$? Why?\n",
    "\n",
    "**Hints**:\n",
    "- For the bin-averaged plots, use bins that are consistent with the scale of the $x$-axis: bins with constant width for the linear scale and logarithmic bins for the logarithmic scale. If in trouble, see the binning tutorial for help.\n",
    "\n",
    "- An example of how the scatter and bin-averaged plots may look like is shown in Fig.1 of the assignment PDF. Obviously, the number of bins are too few in these plots. Typically, it is better to use too many than too few bins. A good choice for the number of bins in this case would be 20.\n",
    "\n",
    "- Check if each degree bin includes roughly the same number of nodes. Nonequal distribution of observations may obscure the results."
   ]
  },
  {
   "cell_type": "code",
   "execution_count": 227,
   "metadata": {
    "deletable": false,
    "nbgrader": {
     "cell_type": "code",
     "checksum": "d78abc6e81a51e823d5dd113bd96ba9b",
     "grade": true,
     "grade_id": "cell-24ee818ce92aca86",
     "locked": false,
     "points": 2,
     "schema_version": 3,
     "solution": true,
     "task": false
    }
   },
   "outputs": [
    {
     "name": "stdout",
     "output_type": "stream",
     "text": [
      "[  1.           2.           3.           4.           5.\n",
      "   6.           7.84268452  10.25128341  13.39959695  17.51480193\n",
      "  22.89384433  29.92486642  39.11521443  51.12804778  66.83019147\n",
      "  87.35468468 114.18253888 149.24960501 195.08626112 255.        ]\n",
      "255\n",
      "Average link weight scatter saved to ./s_per_k_vs_k_linear_fb_like.pdf\n",
      "Average link weight scatter saved to ./s_per_k_vs_k_log_fb_like.pdf\n"
     ]
    },
    {
     "data": {
      "image/png": "[encoded data removed]",
      "text/plain": [
       "<Figure size 432x288 with 1 Axes>"
      ]
     },
     "metadata": {
      "needs_background": "light"
     },
     "output_type": "display_data"
    },
    {
     "data": {
      "image/png": "[encoded data removed]",
      "text/plain": [
       "<Figure size 432x288 with 1 Axes>"
      ]
     },
     "metadata": {
      "needs_background": "light"
     },
     "output_type": "display_data"
    }
   ],
   "source": [
    "# average link weight per node\n",
    "av_weight = []\n",
    "#TODO: calculate average link weight per node\n",
    "#for node in list(network.nodes()):\n",
    "#    for edge in list(network.edges(node,data=True)):\n",
    "#        av_weight.append(np.mean(edge[2]['weight']))\n",
    "av_weight = [np.mean([edge[2]['weight'] for edge in list(network.edges(node, data=True))]) for node in list(network.nodes())]\n",
    "#raise NotImplementedError()\n",
    "\n",
    "n_bins = 20\n",
    "n_lin = 5\n",
    "min_deg = min(degree_vec)\n",
    "max_deg = max(degree_vec)\n",
    "linbins = create_linbins(min_deg, max_deg, n_bins)\n",
    "logbins = create_logbins(min_deg, max_deg, n_log=n_bins-n_lin, n_lin=n_lin)\n",
    "print(logbins)\n",
    "print(max_deg)\n",
    "num = 'b) ' + net_name + \"_\"\n",
    "alpha = 0.1 # transparency of data points in the scatter\n",
    "\n",
    "# For each of linear and logarithmic versions, the full scatter plot and \n",
    "# the bin-averaged plot can be shown in one figure.\n",
    "\n",
    "for bins, scale in zip([linbins, logbins], ['linear', 'log']):\n",
    "    fig = plt.figure(num + scale)\n",
    "    ax = fig.add_subplot(111)\n",
    "    # mean degree value of each degree bin\n",
    "    degree_bin_means, _, _ =binned_statistic(degree_vec,degree_vec,statistic='mean', bins=bins)\n",
    "    \n",
    "    # TODO: Use binned_statistic to get mean degree of each bin\n",
    "    # YOUR CODE HERE\n",
    "    #raise NotImplementedError()\n",
    "\n",
    "    # mean of the average link weights in each degree bin\n",
    "    av_weight_bin_means, _, _ =binned_statistic(degree_vec,av_weight,statistic='mean', bins=bins)\n",
    "    # TODO: Use binned_statistic to get mean of average link weights in each bin\n",
    "    # YOUR CODE HERE\n",
    "    \n",
    "    #raise NotImplementedError()\n",
    "\n",
    "    # number of points in each degree bin\n",
    "    counts, _, _ =binned_statistic(degree_vec,degree_vec,statistic='count', bins=bins)\n",
    "    # TODO: Use binned_statistic to get number of data points in each bin\n",
    "    # Scatter plot all points\n",
    "    ax.scatter(degree_vec, av_weight, marker='o', color='k', s=1.5, alpha=alpha)\n",
    "\n",
    "    # Plotting the bin averages\n",
    "    # The marker size is scaled by number of data points in the bin\n",
    "    ax.scatter(degree_bin_means,\n",
    "               av_weight_bin_means,\n",
    "               marker='o',\n",
    "               color='r',\n",
    "               s=2*np.sqrt(counts),\n",
    "               label='binned data')\n",
    "    ax.set_xscale(scale)\n",
    "    min_max = np.array([min_deg, max_deg])\n",
    "    \n",
    "    # TODO: Set appropriate labels\n",
    "    ax.set_xlabel(' Node degree')\n",
    "    ax.set_ylabel('Average Weight')\n",
    "    ax.set_ylim(bottom=0.0)\n",
    "    ax.grid()\n",
    "\n",
    "    ax.legend(loc='best')\n",
    "    plt.suptitle('avg. link weight vs. degree:' + net_name)\n",
    "    save_path = base_path + scale + '_' + net_name + '.pdf'\n",
    "    fig.savefig(save_path)\n",
    "    print('Average link weight scatter saved to ' + save_path)"
   ]
  },
  {
   "cell_type": "markdown",
   "metadata": {
    "deletable": false,
    "editable": false,
    "nbgrader": {
     "cell_type": "markdown",
     "checksum": "bb919f70f3f6581fd033f54c71bde4d1",
     "grade": false,
     "grade_id": "cell-c218190e96ddd99d",
     "locked": true,
     "schema_version": 3,
     "solution": false,
     "task": false
    }
   },
   "source": [
    "### c. Link neighborhood overlap\n",
    "Lets consider a link between nodes $i$ and $j$. For this link, *link neighborhood overlap* $O_{ij}$ is defined as the fraction of common neighbors of $i$ and $j$ out of all their neighbors: $O_{ij}=\\frac{n_{ij}}{\\left(k_i-1\\right)+\\left(k_j-1\\right)-n_{ij}}.$\n",
    "\n",
    "According to the Granovetter hypothesis, link neighborhood overlap is an increasing function of link weight in social networks. Your task is now to find out whether this is the case also for the present data set by visualizing it in an appropriate way. Use the binning strategy (linear or logarithmic) that is most suitable for this case. \n",
    "\n",
    "- Calculate the link neighborhood overlap for each link. To do this, you will need to modify the `get_link_overlap` function.\n",
    "\n",
    "- Create a scatter plot showing the overlaps as a function of link weight.\n",
    "\n",
    "- As in b), produce also a bin-averaged version of the plot. Use a binning strategy that is most suitable for this case. You should find a reasonable number of bins, which, in this case, will be between 10 and 30. Specify how many bins you used.\n",
    "\n",
    "- In the end, you should be able to spot a subtle trend in the data. Based on your plot, show that the trend is in accordance with the Granovetter hypothesis."
   ]
  },
  {
   "cell_type": "code",
   "execution_count": 228,
   "metadata": {
    "deletable": false,
    "nbgrader": {
     "cell_type": "code",
     "checksum": "de36220a45ed6088afd96be4988f2551",
     "grade": true,
     "grade_id": "cell-4aaccdb57e0ea06a",
     "locked": false,
     "points": 0,
     "schema_version": 3,
     "solution": true,
     "task": false
    }
   },
   "outputs": [],
   "source": [
    "def get_link_overlap(net):\n",
    "    \"\"\"\n",
    "    Calculates link overlap: \n",
    "    O_ij = n_ij / [(k_i - 1) + (k_j - 1) - n_ij]\n",
    "\n",
    "    Parameters\n",
    "    -----------\n",
    "    net: a networkx.Graph() object\n",
    "\n",
    "    Returns\n",
    "    --------\n",
    "    overlaps: list of link overlaps in net\n",
    "    \"\"\"\n",
    "\n",
    "    # TODO: write a function to calculate link neighborhood overlap\n",
    "    # Hint: for getting common neighbors of two nodes, use\n",
    "    # set datatype and intersection method\n",
    "\n",
    "    overlaps = []\n",
    "    for edge in net.edges():\n",
    "        n_common_neighbours = len(set(nx.common_neighbors(net, edge[0], edge[1])))\n",
    "        n_joint_neighbours = net.degree(edge[0]) - 1 + net.degree(edge[1]) - 1 - n_common_neighbours\n",
    "        if n_joint_neighbours == 0:\n",
    "            overlaps.append(1)\n",
    "        else:\n",
    "            overlaps.append(n_common_neighbours / n_joint_neighbours)\n",
    "            \n",
    "    # YOUR CODE HERE\n",
    "    #raise NotImplementedError()\n",
    "    return overlaps"
   ]
  },
  {
   "cell_type": "code",
   "execution_count": 229,
   "metadata": {
    "deletable": false,
    "nbgrader": {
     "cell_type": "code",
     "checksum": "34cfc825e7bb30e33bb5630b06edd519",
     "grade": true,
     "grade_id": "cell-c65e79762ef7342d",
     "locked": false,
     "points": 3,
     "schema_version": 3,
     "solution": true,
     "task": false
    }
   },
   "outputs": [
    {
     "name": "stdout",
     "output_type": "stream",
     "text": [
      "[  1.           2.           3.           4.           5.\n",
      "   6.           8.77680451  12.83871623  18.78048375  27.47210573\n",
      "  40.18621691  58.78442829  85.98990587 125.78609891 184.        ]\n"
     ]
    },
    {
     "ename": "ValueError",
     "evalue": "zero-size array to reduction operation minimum which has no identity",
     "output_type": "error",
     "traceback": [
      "\u001b[0;31m---------------------------------------------------------------------------\u001b[0m",
      "\u001b[0;31mValueError\u001b[0m                                Traceback (most recent call last)",
      "\u001b[0;32m<ipython-input-229-065c7b2d03f5>\u001b[0m in \u001b[0;36m<module>\u001b[0;34m\u001b[0m\n\u001b[1;32m     23\u001b[0m \u001b[0;34m\u001b[0m\u001b[0m\n\u001b[1;32m     24\u001b[0m \u001b[0;31m# mean weight value of each weight bin\u001b[0m\u001b[0;34m\u001b[0m\u001b[0;34m\u001b[0m\u001b[0;34m\u001b[0m\u001b[0m\n\u001b[0;32m---> 25\u001b[0;31m \u001b[0mweight_bin_means\u001b[0m\u001b[0;34m,\u001b[0m \u001b[0m_\u001b[0m\u001b[0;34m,\u001b[0m \u001b[0m_\u001b[0m \u001b[0;34m=\u001b[0m \u001b[0mbinned_statistic\u001b[0m\u001b[0;34m(\u001b[0m\u001b[0mweights\u001b[0m\u001b[0;34m,\u001b[0m \u001b[0mweights\u001b[0m\u001b[0;34m,\u001b[0m\u001b[0mstatistic\u001b[0m\u001b[0;34m=\u001b[0m\u001b[0;34m'mean'\u001b[0m\u001b[0;34m,\u001b[0m \u001b[0mbins\u001b[0m\u001b[0;34m=\u001b[0m\u001b[0mbins\u001b[0m\u001b[0;34m)\u001b[0m\u001b[0;34m\u001b[0m\u001b[0;34m\u001b[0m\u001b[0m\n\u001b[0m\u001b[1;32m     26\u001b[0m \u001b[0;31m# TODO: Use binned_statistic to get mean weight of each bin\u001b[0m\u001b[0;34m\u001b[0m\u001b[0;34m\u001b[0m\u001b[0;34m\u001b[0m\u001b[0m\n\u001b[1;32m     27\u001b[0m \u001b[0;31m# YOUR CODE HERE\u001b[0m\u001b[0;34m\u001b[0m\u001b[0;34m\u001b[0m\u001b[0;34m\u001b[0m\u001b[0m\n",
      "\u001b[0;32m/opt/conda/lib/python3.8/site-packages/scipy/stats/_binned_statistic.py\u001b[0m in \u001b[0;36mbinned_statistic\u001b[0;34m(x, values, statistic, bins, range)\u001b[0m\n\u001b[1;32m    177\u001b[0m             \u001b[0mrange\u001b[0m \u001b[0;34m=\u001b[0m \u001b[0;34m[\u001b[0m\u001b[0mrange\u001b[0m\u001b[0;34m]\u001b[0m\u001b[0;34m\u001b[0m\u001b[0;34m\u001b[0m\u001b[0m\n\u001b[1;32m    178\u001b[0m \u001b[0;34m\u001b[0m\u001b[0m\n\u001b[0;32m--> 179\u001b[0;31m     medians, edges, binnumbers = binned_statistic_dd(\n\u001b[0m\u001b[1;32m    180\u001b[0m         [x], values, statistic, bins, range)\n\u001b[1;32m    181\u001b[0m \u001b[0;34m\u001b[0m\u001b[0m\n",
      "\u001b[0;32m/opt/conda/lib/python3.8/site-packages/scipy/stats/_binned_statistic.py\u001b[0m in \u001b[0;36mbinned_statistic_dd\u001b[0;34m(sample, values, statistic, bins, range, expand_binnumbers, binned_statistic_result)\u001b[0m\n\u001b[1;32m    552\u001b[0m     \u001b[0;32mif\u001b[0m \u001b[0mbinned_statistic_result\u001b[0m \u001b[0;32mis\u001b[0m \u001b[0;32mNone\u001b[0m\u001b[0;34m:\u001b[0m\u001b[0;34m\u001b[0m\u001b[0;34m\u001b[0m\u001b[0m\n\u001b[1;32m    553\u001b[0m         \u001b[0mnbin\u001b[0m\u001b[0;34m,\u001b[0m \u001b[0medges\u001b[0m\u001b[0;34m,\u001b[0m \u001b[0mdedges\u001b[0m \u001b[0;34m=\u001b[0m \u001b[0m_bin_edges\u001b[0m\u001b[0;34m(\u001b[0m\u001b[0msample\u001b[0m\u001b[0;34m,\u001b[0m \u001b[0mbins\u001b[0m\u001b[0;34m,\u001b[0m \u001b[0mrange\u001b[0m\u001b[0;34m)\u001b[0m\u001b[0;34m\u001b[0m\u001b[0;34m\u001b[0m\u001b[0m\n\u001b[0;32m--> 554\u001b[0;31m         \u001b[0mbinnumbers\u001b[0m \u001b[0;34m=\u001b[0m \u001b[0m_bin_numbers\u001b[0m\u001b[0;34m(\u001b[0m\u001b[0msample\u001b[0m\u001b[0;34m,\u001b[0m \u001b[0mnbin\u001b[0m\u001b[0;34m,\u001b[0m \u001b[0medges\u001b[0m\u001b[0;34m,\u001b[0m \u001b[0mdedges\u001b[0m\u001b[0;34m)\u001b[0m\u001b[0;34m\u001b[0m\u001b[0;34m\u001b[0m\u001b[0m\n\u001b[0m\u001b[1;32m    555\u001b[0m     \u001b[0;32melse\u001b[0m\u001b[0;34m:\u001b[0m\u001b[0;34m\u001b[0m\u001b[0;34m\u001b[0m\u001b[0m\n\u001b[1;32m    556\u001b[0m         \u001b[0medges\u001b[0m \u001b[0;34m=\u001b[0m \u001b[0mbinned_statistic_result\u001b[0m\u001b[0;34m.\u001b[0m\u001b[0mbin_edges\u001b[0m\u001b[0;34m\u001b[0m\u001b[0;34m\u001b[0m\u001b[0m\n",
      "\u001b[0;32m/opt/conda/lib/python3.8/site-packages/scipy/stats/_binned_statistic.py\u001b[0m in \u001b[0;36m_bin_numbers\u001b[0;34m(sample, nbin, edges, dedges)\u001b[0m\n\u001b[1;32m    691\u001b[0m     \u001b[0;32mfor\u001b[0m \u001b[0mi\u001b[0m \u001b[0;32min\u001b[0m \u001b[0mxrange\u001b[0m\u001b[0;34m(\u001b[0m\u001b[0mNdim\u001b[0m\u001b[0;34m)\u001b[0m\u001b[0;34m:\u001b[0m\u001b[0;34m\u001b[0m\u001b[0;34m\u001b[0m\u001b[0m\n\u001b[1;32m    692\u001b[0m         \u001b[0;31m# Find the rounding precision\u001b[0m\u001b[0;34m\u001b[0m\u001b[0;34m\u001b[0m\u001b[0;34m\u001b[0m\u001b[0m\n\u001b[0;32m--> 693\u001b[0;31m         \u001b[0mdedges_min\u001b[0m \u001b[0;34m=\u001b[0m \u001b[0mdedges\u001b[0m\u001b[0;34m[\u001b[0m\u001b[0mi\u001b[0m\u001b[0;34m]\u001b[0m\u001b[0;34m.\u001b[0m\u001b[0mmin\u001b[0m\u001b[0;34m(\u001b[0m\u001b[0;34m)\u001b[0m\u001b[0;34m\u001b[0m\u001b[0;34m\u001b[0m\u001b[0m\n\u001b[0m\u001b[1;32m    694\u001b[0m         \u001b[0;32mif\u001b[0m \u001b[0mdedges_min\u001b[0m \u001b[0;34m==\u001b[0m \u001b[0;36m0\u001b[0m\u001b[0;34m:\u001b[0m\u001b[0;34m\u001b[0m\u001b[0;34m\u001b[0m\u001b[0m\n\u001b[1;32m    695\u001b[0m             \u001b[0;32mraise\u001b[0m \u001b[0mValueError\u001b[0m\u001b[0;34m(\u001b[0m\u001b[0;34m'The smallest edge difference is numerically 0.'\u001b[0m\u001b[0;34m)\u001b[0m\u001b[0;34m\u001b[0m\u001b[0;34m\u001b[0m\u001b[0m\n",
      "\u001b[0;32m/opt/conda/lib/python3.8/site-packages/numpy/core/_methods.py\u001b[0m in \u001b[0;36m_amin\u001b[0;34m(a, axis, out, keepdims, initial, where)\u001b[0m\n\u001b[1;32m     32\u001b[0m def _amin(a, axis=None, out=None, keepdims=False,\n\u001b[1;32m     33\u001b[0m           initial=_NoValue, where=True):\n\u001b[0;32m---> 34\u001b[0;31m     \u001b[0;32mreturn\u001b[0m \u001b[0mumr_minimum\u001b[0m\u001b[0;34m(\u001b[0m\u001b[0ma\u001b[0m\u001b[0;34m,\u001b[0m \u001b[0maxis\u001b[0m\u001b[0;34m,\u001b[0m \u001b[0;32mNone\u001b[0m\u001b[0;34m,\u001b[0m \u001b[0mout\u001b[0m\u001b[0;34m,\u001b[0m \u001b[0mkeepdims\u001b[0m\u001b[0;34m,\u001b[0m \u001b[0minitial\u001b[0m\u001b[0;34m,\u001b[0m \u001b[0mwhere\u001b[0m\u001b[0;34m)\u001b[0m\u001b[0;34m\u001b[0m\u001b[0;34m\u001b[0m\u001b[0m\n\u001b[0m\u001b[1;32m     35\u001b[0m \u001b[0;34m\u001b[0m\u001b[0m\n\u001b[1;32m     36\u001b[0m def _sum(a, axis=None, dtype=None, out=None, keepdims=False,\n",
      "\u001b[0;31mValueError\u001b[0m: zero-size array to reduction operation minimum which has no identity"
     ]
    },
    {
     "data": {
      "image/png": "[encoded data removed]",
      "text/plain": [
       "<Figure size 432x288 with 1 Axes>"
      ]
     },
     "metadata": {
      "needs_background": "light"
     },
     "output_type": "display_data"
    }
   ],
   "source": [
    "# Get link neighborhood overlaps\n",
    "overlaps = get_link_overlap(network)\n",
    "\n",
    "# creating link neighborhood overlap scatter\n",
    "num = 'd) + net_name'\n",
    "fig = plt.figure(num)\n",
    "ax = fig.add_subplot(111)\n",
    "\n",
    "# TODO: Change the number of bins to the number you find reasonable between 10 and 30\n",
    "n_bins = 15\n",
    "n_lin = 5\n",
    "min_w = np.min(weights)\n",
    "max_w = np.max(weights)\n",
    "\n",
    "linbins = create_linbins(min_w, max_w, n_bins)\n",
    "logbins = create_logbins(min_w, max_w, n_log=n_bins-n_lin, n_lin=n_lin)\n",
    "print(logbins)\n",
    "\n",
    "# TODO: try both linear and logarithmic bins, select the best one\n",
    "# Specify the scale for x-axis that is consitent with the binning strategy\n",
    "bins = []\n",
    "scale = 'log' \n",
    "\n",
    "# mean weight value of each weight bin\n",
    "weight_bin_means, _, _ = binned_statistic(weights, weights,statistic='mean', bins=bins)\n",
    "# TODO: Use binned_statistic to get mean weight of each bin\n",
    "# YOUR CODE HERE\n",
    "#raise NotImplementedError()\n",
    "\n",
    "# mean link neighborhood overlap of each weight bin\n",
    "overlap_bin_means, _, _ = binned_statistic(weights, overlaps,statistic='mean', bins=bins)\n",
    "# TODO: Use binned_statistic to get mean overlap of each bin \n",
    "# YOUR CODE HERE\n",
    "#raise NotImplementedError()\n",
    "\n",
    "# number of points in each weigth bin\n",
    "counts, _, _ = binned_statistic(weights, weights,statistic='count', bins=bins)\n",
    "# TODO: Use binned_statistic to get number of data points\n",
    "# YOUR CODE HERE\n",
    "#raise NotImplementedError()\n",
    "\n",
    "# plotting all points (overlap)\n",
    "ax.scatter(weights, overlaps, marker=\"o\", color='k', s=1.5, alpha=alpha)\n",
    "# plotting bin average, marker size scaled by number of data points in the bin\n",
    "ax.scatter(weight_bin_means,\n",
    "           overlap_bin_means,\n",
    "           s=np.sqrt(counts)+1,\n",
    "           marker='o',\n",
    "           color='r')\n",
    "\n",
    "ax.set_xscale(scale)\n",
    "ax.set_yscale('log')\n",
    "ax.set_ylim(bottom=0.01)\n",
    "ax.grid()\n",
    "\n",
    "#TODO: Set appropriate labels\n",
    "ax.set_xlabel('Weights')\n",
    "ax.set_ylabel('Link neighborhood overlap ')\n",
    "ax.text(0.95, 0.95, \"number of bins:\" + str(n_bins), \n",
    "        horizontalalignment='right', verticalalignment='top', \n",
    "        backgroundcolor='w', transform=ax.transAxes)\n",
    "\n",
    "fig.suptitle('Overlap vs. weight:' + net_name)\n",
    "fig.savefig(save_path_linkneighborhoodplot)\n",
    "print('Link neighborhood overlap scatter saved as ' + save_path_linkneighborhoodplot)"
   ]
  },
  {
   "cell_type": "code",
   "execution_count": null,
   "metadata": {},
   "outputs": [],
   "source": []
  }
 ],
 "metadata": {
  "kernelspec": {
   "display_name": "Python 3",
   "language": "python",
   "name": "python3"
  },
  "language_info": {
   "codemirror_mode": {
    "name": "ipython",
    "version": 3
   },
   "file_extension": ".py",
   "mimetype": "text/x-python",
   "name": "python",
   "nbconvert_exporter": "python",
   "pygments_lexer": "ipython3",
   "version": "3.8.3"
  },
  "varInspector": {
   "cols": {
    "lenName": 16,
    "lenType": 16,
    "lenVar": 40
   },
   "kernels_config": {
    "python": {
     "delete_cmd_postfix": "",
     "delete_cmd_prefix": "del ",
     "library": "var_list.py",
     "varRefreshCmd": "print(var_dic_list())"
    },
    "r": {
     "delete_cmd_postfix": ") ",
     "delete_cmd_prefix": "rm(",
     "library": "var_list.r",
     "varRefreshCmd": "cat(var_dic_list()) "
    }
   },
   "types_to_exclude": [
    "module",
    "function",
    "builtin_function_or_method",
    "instance",
    "_Feature"
   ],
   "window_display": false
  }
 },
 "nbformat": 4,
 "nbformat_minor": 2
}
