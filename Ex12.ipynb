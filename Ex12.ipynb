{
 "cells": [
  {
   "cell_type": "markdown",
   "metadata": {
    "deletable": false,
    "editable": false,
    "nbgrader": {
     "cell_type": "markdown",
     "checksum": "e1a8646b2b99408df1f34e33397bd66b",
     "grade": false,
     "grade_id": "cell-158415a914e365c7",
     "locked": true,
     "schema_version": 3,
     "solution": false,
     "task": false
    }
   },
   "source": [
    "# Round 8. Network sampling\n",
    "\n",
    "To get started, you can use the provided Python template `sampling.py` or this notebook for reference. The usage of the notebook or template is **optional**. Then you only need to fill in the required functions. Some of the functions do NOT need modifications. You may start your solution after the subtitle \"**Beginning of the Exercise**\" down below. \n",
    "\n",
    "In addition to returning a short report of your results (including the visualizations), return also your commented Python code or notebook. Remember to label the axes in your figures!\n",
    "\n",
    "## Introduction\n",
    "Many network data sets are samples of some underlying graphs that we are actually interested in. That is, nodes and edges of these empirical networks have been sampled in a way that we only observe parts of the network. This can severely bias even the most simple network measures so that the sampled graph has quantitatively different properties when compared to the underlying graph.\n",
    "In this exercise we will see the effect of three different sampling schemes on network transitivity $C$ (also known as the global clustering coefficient) and derive estimators that can be used to correct for these biases.  \n",
    "\n",
    "Let us first recall the definition of transitivity $C$:\n",
    "\\begin{equation} \\label{eq1}\n",
    "C =\\frac{\\tau_{\\triangle}}{\\tau_{\\angle}} = \\frac{\\sum_i E_i}{\\sum_i {k_i \\choose 2}}\\,, %=\\frac{\\text{3} \\times \\text{number of triangles in the network}}{\\text{number of two-stars in the network}}\\,,\n",
    "\\end{equation}\n",
    "where $\\tau_{\\triangle}$ is three times the nuber of triangles \\footnote{This is three times the number of triangles as we are going through all the nodes - and thus counting each triangle three times. We could define an alternative estimator that corrects for this overestimation, but for transitivity $\\tau_{\\triangle} = \\sum_i E_i$ suffices.} (three nodes that are fully connected), \n",
    "$\\tau_{\\angle}$ is the number of two-stars (a node and two of its neighbors, regardless of whether they are triangles), \n",
    "$i$ is a node, $k_i$ is the degree of $i$, and $E_i$ is the number of triangles centered on $i$ (in other words, how many triangles pass by $i$)."
   ]
  },
  {
   "cell_type": "markdown",
   "metadata": {
    "deletable": false,
    "editable": false,
    "nbgrader": {
     "cell_type": "markdown",
     "checksum": "4c1676db7d240af2e8cfbc6f602b1fce",
     "grade": false,
     "grade_id": "cell-af155fe15a366769",
     "locked": true,
     "schema_version": 3,
     "solution": false,
     "task": false
    }
   },
   "source": [
    "# Beginning of the exercise\n",
    "Write your code for the sampling exercise when needed"
   ]
  },
  {
   "cell_type": "markdown",
   "metadata": {},
   "source": [
    "Start by generating a network from a random model. Use the command `{nx.relaxed_caveman_graph(200, 10, 0.1)}` to generate a graph with 200 communities of ten people each, where each link is then rewired with probability $0.1$. This is the \"true\" underlying graph from which we obtain samples."
   ]
  },
  {
   "cell_type": "code",
   "execution_count": 19,
   "metadata": {},
   "outputs": [],
   "source": [
    "import networkx as nx\n",
    "import numpy as np\n",
    "import matplotlib.pyplot as plt\n",
    "\n",
    "# Generate network\n",
    "g = nx.relaxed_caveman_graph(200, 10, .1)"
   ]
  },
  {
   "cell_type": "markdown",
   "metadata": {
    "deletable": false,
    "editable": false,
    "nbgrader": {
     "cell_type": "markdown",
     "checksum": "7fc85545808b1755706448e8ef1e96b2",
     "grade": false,
     "grade_id": "cell-9de2029b729719c4",
     "locked": true,
     "schema_version": 3,
     "solution": false,
     "task": false
    }
   },
   "source": [
    "### a. Three sampling schemes\n",
    "First, let's implement the three sampling schemes. Program three functions that perform:\n",
    "1. Bernoulli sampling of nodes: iterate over nodes, and sample each one with probability $p$. We observe an edge if and only if we have sampled its two constituting nodes. \n",
    "2. Bernoulli sampling of edges: iterate over edges, and sample each one with probability $p$. We observe a node if and only if we have sampled at least one of its edges.\n",
    "3. Star sampling: iterate over nodes, and sample each one with probability $p$. If you have directly sampled a node, you also observe all of its neighbors (a real-life example would be a data set obtained by crawling through friendship lists of randomly selected users in a social networking website). Note: here we will have nodes that are sampled a) directly with probability $p$ and b) indirectly via sampling a neighbor. It is useful to keep a list of nodes you sampled directly. \n"
   ]
  },
  {
   "cell_type": "code",
   "execution_count": 20,
   "metadata": {
    "deletable": false,
    "nbgrader": {
     "cell_type": "code",
     "checksum": "b848d9bbaa1ce77c79b4af7ca1efb13b",
     "grade": true,
     "grade_id": "cell-de450874ad32ecb3",
     "locked": false,
     "points": 0,
     "schema_version": 3,
     "solution": true,
     "task": false
    }
   },
   "outputs": [],
   "source": [
    "def sample_nodes(g, p):\n",
    "    \"\"\"\n",
    "    Sample a graph via Bernoulli node sampling.\n",
    "    For each node in g, sample it with probability p, and add edge (i, j) only if both nodes i and j have been sampled.\n",
    "\n",
    "    Parameters\n",
    "    ----------------\n",
    "    g: a networkx graph object\n",
    "    p: sampling probability for each node\n",
    "    \"\"\"\n",
    "\n",
    "    # Initialize empty network\n",
    "    g_new = nx.empty_graph()\n",
    "    \n",
    "    ###TIP: #TODO: Write code for sampling. Iterate over nodes, and add to g_new with probability p\n",
    "    ###TIP: #TODO Add edges if both nodes in an edge have been observed.\n",
    "    for node in list(g.nodes()):\n",
    "        if(np.random.random()<p):\n",
    "            g_new.add_node(node)\n",
    "            for n in g.neighbors(node):\n",
    "                if n in g_new:\n",
    "                    g_new.add_edge(node,n)  \n",
    "    return g_new"
   ]
  },
  {
   "cell_type": "code",
   "execution_count": 21,
   "metadata": {
    "deletable": false,
    "nbgrader": {
     "cell_type": "code",
     "checksum": "ff52ad61dbe6ffceebe6f05cb8ab2191",
     "grade": true,
     "grade_id": "cell-cb2ae96e9efd0580",
     "locked": false,
     "points": 0,
     "schema_version": 3,
     "solution": true,
     "task": false
    }
   },
   "outputs": [],
   "source": [
    "def sample_edges(g, p):\n",
    "    \"\"\"\n",
    "    Sample a graph via Bernoulli edge sampling.\n",
    "    For each edge in g, sample it with probability p\n",
    "\n",
    "    Parameters\n",
    "    ----------------\n",
    "    g: a networkx graph object\n",
    "    p: sampling probability for each edge\n",
    "    \"\"\"\n",
    "\n",
    "    # Initialize empty network\n",
    "    g_new = nx.empty_graph()\n",
    "\n",
    "    # TODO: Write code for sampling. Iterate over edges, and add to g_new with probability p\n",
    "    # YOUR CODE HERE\n",
    "    for edge in list(g.edges()):\n",
    "        if(np.random.random()<p):\n",
    "            g_new.add_edge(*edge)\n",
    "            g_new.add_nodes_from(edge)\n",
    "    #raise NotImplementedError()\n",
    "    return g_new"
   ]
  },
  {
   "cell_type": "markdown",
   "metadata": {},
   "source": [
    "**Hints**\n",
    "- For star sampling, there are at least two ways of counting the sampled two-stars: we can either focus on the directly sampled nodes and obtain their full degrees, or we can count all the two-stars regardless of whether the center node itself was selected (so if two nodes with the same neighbor are selected, we observe a two-star centered on a node not directly sampled). Both answers are correct, but using the directly-sampled nodes will make calculations easier on the next excercise."
   ]
  },
  {
   "cell_type": "code",
   "execution_count": 22,
   "metadata": {
    "deletable": false,
    "nbgrader": {
     "cell_type": "code",
     "checksum": "7ed6540b9092c66eb17ae65e0879beca",
     "grade": true,
     "grade_id": "cell-376bfba349829438",
     "locked": false,
     "points": 0,
     "schema_version": 3,
     "solution": true,
     "task": false
    }
   },
   "outputs": [],
   "source": [
    "def sample_stars(g, p):\n",
    "    \"\"\"\n",
    "    Sample a graph via star sampling.\n",
    "    We sample nodes with probability p, and observe all neighbors. Returns a g_new network obtained via star sampling, and also a list of the nodes that were directly sampled from g, not only sampled via observing a sampled neighbor.\n",
    "    Parameters\n",
    "    ----------------\n",
    "    g: a networkx graph object\n",
    "    p: sampling probability of sampling a node (and observing its neighbors)\n",
    "    \"\"\"\n",
    "\n",
    "    # Initialize empty network\n",
    "    g_new = nx.empty_graph()\n",
    "    nodes = []\n",
    "    # TODO: Write code for sampling. Iterate over nodes, and add to g_new with probability p\n",
    "    for node in list(g.nodes()):\n",
    "        if(np.random.random()<p):\n",
    "            nodes.append(node)\n",
    "            g_new.add_node(node)\n",
    "    # TODO: If a node has been observed, then add all the node's neighbors to the graph\n",
    "            for n in g.neighbors(node):\n",
    "                g_new.add_node(n)\n",
    "                g_new.add_edge(node,n)  \n",
    "    # TODO: Use nodes to keep a list of directly sampled nodes\n",
    "    # YOUR CODE HERE\n",
    "    #raise NotImplementedError()\n",
    "    return g_new, nodes"
   ]
  },
  {
   "cell_type": "code",
   "execution_count": 23,
   "metadata": {},
   "outputs": [],
   "source": [
    "g_new,nodes = sample_stars(g, 0.4)"
   ]
  },
  {
   "cell_type": "code",
   "execution_count": 24,
   "metadata": {},
   "outputs": [
    {
     "data": {
      "image/png": "[encoded data removed]",
      "text/plain": [
       "<Figure size 432x288 with 1 Axes>"
      ]
     },
     "metadata": {},
     "output_type": "display_data"
    }
   ],
   "source": [
    "nx.draw_networkx(g_new,with_labels=False,node_size=10)"
   ]
  },
  {
   "cell_type": "markdown",
   "metadata": {},
   "source": [
    "**Obtain samples** of the network using the three sampling schemes with probability $p = 0.4$. Then, use either the code we provided or your own to obtain empirical estimates of the number of triangles, the number of two-stars, and transitivity. **Report** your results on a table where the columns represent:\n",
    "- sampled number of triangles, \n",
    "- sampled number of two-stars\n",
    "- transitivity in sampled network\n",
    "- fraction of sampled triangles over triangles in original network\n",
    "- fraction of sampled two-stars over two-stars in original network\n",
    "\n",
    "and the rows represent the different sampling schemes (plus an extra row with the values of the original network). **Answer** the following questions: how do sampling schemes compare in the fraction of triangles/two-stars they preseve? Do sampling schemes affect two-stars/triangles in the same way? Transitivity via node sampling should be similar to the real value, what could be the reason for this? "
   ]
  },
  {
   "cell_type": "markdown",
   "metadata": {},
   "source": [
    "We provide code for counting triangles, two-stars and computing transitivity. "
   ]
  },
  {
   "cell_type": "code",
   "execution_count": 25,
   "metadata": {},
   "outputs": [],
   "source": [
    "def count_twostars(g, nodes=None):\n",
    "    \"\"\"\n",
    "    Counts the number of two stars in a graph\n",
    "\n",
    "    Parameters\n",
    "    ------------------\n",
    "    g: a networkx graph object\n",
    "    nodes: if nodes is not None, a list of sampled nodes under the star-sampling scheme.\n",
    "    \"\"\"\n",
    "    if not nodes:\n",
    "        two_stars = [k*(k - 1)/2 for n, k in g.degree()]\n",
    "    else:\n",
    "        two_stars = [k*(k - 1)/2 for n, k in g.degree() if n in nodes]\n",
    "    n_two_stars = sum(two_stars)\n",
    "    return n_two_stars\n",
    "\n",
    "\n",
    "def count_triangles(g):\n",
    "    \"\"\"\n",
    "    Counts the number of triangles in a graph\n",
    "\n",
    "    Parameters\n",
    "    ------------------\n",
    "    g: a networkx graph object\n",
    "    \"\"\"\n",
    "    triangles = []\n",
    "    for node in g.nodes:\n",
    "        neighbors = [n for n in g.neighbors(node)]\n",
    "        n_neighbors = len(neighbors)\n",
    "        n_links = 0\n",
    "        if n_neighbors > 1:\n",
    "            for n1 in neighbors:\n",
    "                for n2 in neighbors:\n",
    "                    if g.has_edge(n1, n2):\n",
    "                        n_links += 1\n",
    "        triangles.append(n_links/2)\n",
    "    n_triangles = sum(triangles)\n",
    "    # Another option is to use nx.triangles(), or to count triangles directly\n",
    "\n",
    "    return n_triangles\n",
    "\n",
    "\n",
    "def transitivity(n_triangles, n_twostars):\n",
    "    \"\"\"\n",
    "    Returns the plug-in estimator for global transitivity given the number of triangles and number of two-stars.\n",
    "\n",
    "    Parameters\n",
    "    ---------------------\n",
    "    triples: int\n",
    "    triangles: int\n",
    "    \"\"\"\n",
    "    transitivity = n_triangles/n_twostars\n",
    "\n",
    "    return transitivity"
   ]
  },
  {
   "cell_type": "code",
   "execution_count": 26,
   "metadata": {},
   "outputs": [
    {
     "name": "stdout",
     "output_type": "stream",
     "text": [
      "samp. |  triangles | two-stars | transit. | triang.frac. | two-st.frac. \n",
      "node  |      3165  |     4523  |  0.6998  |    0.0595    |    0.0620    \n",
      "edge  |      3246  |    11426  |  0.2841  |    0.0610    |    0.1567    \n",
      "star  |     19152  |    29610  |  0.6468  |    0.3598    |    0.4060    \n",
      "orig. |     53235  |    72932  |  0.7299  |    1.0000    |    1.0000    \n"
     ]
    }
   ],
   "source": [
    "# a)\n",
    "# Compute statistics from the original network\n",
    "n_triangles_orig = count_triangles(g)\n",
    "n_twostars_orig = count_twostars(g)\n",
    "transit_orig = transitivity(n_triangles_orig, n_twostars_orig)\n",
    "p = 0.4\n",
    "\n",
    "print('samp. |  triangles | two-stars | transit. | triang.frac. | two-st.frac. ')\n",
    "\n",
    "# Sample nodes\n",
    "g_new = sample_nodes(g, p)\n",
    "\n",
    "# Obtain node statistics\n",
    "n_triangles = count_triangles(g_new)\n",
    "n_twostars = count_twostars(g_new)\n",
    "transit = transitivity(n_triangles, n_twostars)\n",
    "f_triangles_n = n_triangles / n_triangles_orig\n",
    "f_twostars_n = n_twostars / n_twostars_orig\n",
    "print('node  |  %8d  |  %7d  |  %1.4f  |    %1.4f    |    %1.4f    ' %\n",
    "      (n_triangles, n_twostars, transit, f_triangles_n, f_twostars_n))\n",
    "\n",
    "    # Sample edges\n",
    "g_new = sample_edges(g, p)\n",
    "\n",
    "# Obtain edge statistics\n",
    "n_triangles = count_triangles(g_new)\n",
    "n_twostars = count_twostars(g_new)\n",
    "transit = transitivity(n_triangles, n_twostars)\n",
    "f_triangles_e = n_triangles / n_triangles_orig\n",
    "f_twostars_e = n_twostars / n_twostars_orig\n",
    "print('edge  |  %8d  |  %7d  |  %1.4f  |    %1.4f    |    %1.4f    ' % \n",
    "      (n_triangles, n_twostars, transit, f_triangles_e, f_twostars_e))\n",
    "\n",
    "    # Sample stars\n",
    "g_new, nodes = sample_stars(g, p)\n",
    "\n",
    "# Obtain star statistics\n",
    "n_triangles = count_triangles(g_new)\n",
    "n_twostars = count_twostars(g_new, nodes)\n",
    "transit = transitivity(n_triangles, n_twostars)\n",
    "f_triangles_s = n_triangles / n_triangles_orig\n",
    "f_twostars_s = n_twostars / n_twostars_orig\n",
    "print('star  |  %8d  |  %7d  |  %1.4f  |    %1.4f    |    %1.4f    ' % \n",
    "      (n_triangles, n_twostars, transit, f_triangles_s, f_twostars_s))\n",
    "print('orig. |  %8d  |  %7d  |  %1.4f  |    %1.4f    |    %1.4f    ' % \n",
    "      (n_triangles_orig, n_twostars_orig, transit_orig, 1., 1.))"
   ]
  },
  {
   "cell_type": "markdown",
   "metadata": {},
   "source": [
    "The Horvitz-Thompson (HT) estimator is a simple way of correcting for the bias induced by sampling. Let $\\hat{\\tau}$ be the emprical count of a structure found in a sampled network, such as your results from a). If $p_{\\tau}$ is the probability of observing these structures, then the HT estimator for the total counts is simply:\n",
    "\\begin{equation}\n",
    "\\hat{\\tau}^{HT} = \\frac{1}{p_{\\tau}} \\hat{\\tau}\n",
    "\\end{equation}\n",
    "For transitivity, we may simply use a \"plug-in\" estimator by substituting the empirical estimators for the HT estimators; that is, use $\\hat{\\tau}^{HT}_{\\triangle}$ and $\\hat{\\tau}^{HT}_{\\angle}$ instead of $\\hat{\\tau}_{\\triangle}$ and $\\hat{\\tau}_{\\angle}$ in the transitivity formula."
   ]
  },
  {
   "cell_type": "markdown",
   "metadata": {
    "deletable": false,
    "editable": false,
    "nbgrader": {
     "cell_type": "markdown",
     "checksum": "f58b8db1eed6c4dcb0de5c18f37edd63",
     "grade": false,
     "grade_id": "cell-224870929a8f1178",
     "locked": true,
     "schema_version": 3,
     "solution": false,
     "task": false
    }
   },
   "source": [
    "### d. HT estimator\n",
    "Implement the HT estimator for the three sampling schemes. Given two selection probabilities $p$, we will sample at least $n=100$ times to obtain distributions of some of our HT estimators, and compare it with the measurements from the sampled networks. In other words, for each $p=0.2, 0.5$, and for each sampling scheme, obtain $n=100$ samples from the original network, calculate the HT estimator for the number triangles and for transitivity. For $p=0.5$ include also the empirical estimator (the counts without the HT correction), and for all plots include a vertical line depicticing the value of the original network. As a summary, you will **report your results in six plots**:\n",
    "\n",
    "- Histograms of estimator $\\hat{\\tau}_{\\triangle}^{HT,n}$ for $p=0.2, 0.5$ and $\\hat{\\tau}_{\\triangle}$ (empirical counts) for $p=0.5$ and true value of $\\tau_{\\triangle}$.\n",
    "- Histograms of estimator $\\hat{\\tau}_{C}^{HT,n}$ for $p=0.2, 0.5$ and $\\hat{\\tau}_{C}$ (empirical value) for $p=0.5$ and true value of $C$.\n",
    "-  of estimator $\\hat{\\tau}_{\\triangle}^{HT,e}$ for $p=0.2, 0.5$ and $\\hat{\\tau}_{\\triangle}$ (empirical counts) for $p=0.5$ and true value of $\\tau_{\\triangle}$.\n",
    "- Histograms of estimator $\\hat{\\tau}_{C}^{HT,e}$ for $p=0.2, 0.5$ and $\\hat{\\tau}_{C}$ (empirical value) for $p=0.5$ and true value of $C$.\n",
    "- Histograms of estimator $\\hat{\\tau}_{\\triangle}^{HT,s}$ for $p=0.2, 0.5$ and $\\hat{\\tau}_{\\triangle}$ (empirical counts) for $p=0.5$ and true value of $\\tau_{\\triangle}$.\n",
    "- Histograms of estimator $\\hat{\\tau}_{C}^{HT,s}$ for $p=0.2, 0.5$ and $\\hat{\\tau}^{C}$ (empirical value) for $p=0.5$ and true value of $C$.\n",
    "\\end{itemize}\n",
    "\n",
    "In your plots, the distribution of HT estimators should lie around the real value. **Answer** the following questions: what is the effect of the sampling probability $p$ on your estimators? How the HT distribuitions differ between sampling schemes? In the last plot, the empirical estimators (without HT correction) should be centered around the true value, why could this be?\n",
    "\n",
    "**Hints**:\n",
    "- Since we want to observe how different samples may arise from the same network, we need to take a large number of samples ($n=100$, for instance). However, while you are coding and testing it may be wise to use a smaller $n$. Keep in mind that if your code takes too much time to run on your computer, you can report results for a smaller $n$ or a smaller network.\n",
    "- In case you were not able to obtain the theoretical probabilitites in excercise b), you can substitute the theoretical probabilities ($p^s_{\\triangle}$, for example) with the fraction of sampled structures over the totals in the original network. If this is the case, please state so in your report and explain why this substitution is possible.  \n"
   ]
  },
  {
   "cell_type": "code",
   "execution_count": 27,
   "metadata": {},
   "outputs": [],
   "source": [
    "def ht_edge_probabilities(p):\n",
    "    \"\"\"\n",
    "    Given the probability of sampling an edge, returns the probabilities of sampling two-stars and triangles\n",
    "\n",
    "    Parameters\n",
    "    ---------------------\n",
    "    p: float\n",
    "    \"\"\"\n",
    "    pi_twostars = p**2\n",
    "    pi_triangles = p**3\n",
    "\n",
    "    return pi_twostars, pi_triangles"
   ]
  },
  {
   "cell_type": "code",
   "execution_count": 28,
   "metadata": {
    "deletable": false,
    "nbgrader": {
     "cell_type": "code",
     "checksum": "e73e215b39c1e842703f7920937f970f",
     "grade": true,
     "grade_id": "cell-54ea177439225cde",
     "locked": false,
     "points": 0,
     "schema_version": 3,
     "solution": true,
     "task": false
    }
   },
   "outputs": [],
   "source": [
    "def ht_node_probabilities(p):\n",
    "    \"\"\"\n",
    "    Given the probability of sampling a node, returns the probabilities of sampling two-stars and triangles\n",
    "\n",
    "    Parameters\n",
    "    ---------------------\n",
    "    p: float\n",
    "    \"\"\"\n",
    "    pi_twostars = 0\n",
    "    pi_triangles = 0\n",
    "    ###TIP: #TODO write the probabilites of sampling twostars and triangles under node sampling\n",
    "    ###TIP: #NOTE: if you did not obtain the theoretical values, you can use an estimate of pi_twostars \n",
    "    ###TIP: #and pi_triangles by sampling nodes with probability p=.2, .5, and using the fraction of sampled \n",
    "    ###TIP: #twostars/triangles as estimates.\n",
    "    # YOUR CODE HERE\n",
    "    orig_twostars_count = count_twostars(g)\n",
    "    orig_triangles_count = count_triangles(g)\n",
    "    g_new = sample_nodes(g, p)    \n",
    "    new_twostars_count = count_twostars(g_new)\n",
    "    new_triangle_count = count_triangles(g_new)\n",
    "    \n",
    "    \n",
    "    #return pi_twostars, pi_triangle\n",
    "    #raise NotImplementedError()\n",
    "    return (new_twostars_count / orig_twostars_count), (new_triangle_count / orig_triangles_count)"
   ]
  },
  {
   "cell_type": "code",
   "execution_count": 29,
   "metadata": {
    "deletable": false,
    "nbgrader": {
     "cell_type": "code",
     "checksum": "f07651388619cea4f028b683ea99dd69",
     "grade": true,
     "grade_id": "cell-2dbbb646997b2e53",
     "locked": false,
     "points": 0,
     "schema_version": 3,
     "solution": true,
     "task": false
    }
   },
   "outputs": [],
   "source": [
    "def ht_star_probabilities(p):\n",
    "    \"\"\"\n",
    "    Given the probability of sampling a star, returns the probabilities of sampling two-stars and triangles\n",
    "\n",
    "    Parameters\n",
    "    ---------------------\n",
    "    p: float\n",
    "    \"\"\"\n",
    "    pi_twostars = 0.\n",
    "    pi_triangles = 0.\n",
    "    ###TIP: #TODO write the probabilites of sampling twostars and triangles under star-sampling\n",
    "    ###TIP: #NOTE: if you did not obtain the theoretical values, you can use an estimate of pi_twostars \n",
    "    ###TIP: #and pi_triangles by sampling stars with probability p=.2, .5, and using the fraction of sampled \n",
    "    ###TIP: #twostars/triangles as estimates.\n",
    "    # YOUR CODE HERE\n",
    "    orig_twostars_count = count_twostars(g)\n",
    "    orig_triangles_count = count_triangles(g)\n",
    "    g_new = sample_stars(g, p)    \n",
    "    new_twostars_count = count_twostars(g_new)\n",
    "    new_triangle_count = count_triangles(g_new)\n",
    "    \n",
    "    #return pi_twostars, pi_triangle\n",
    "    #raise NotImplementedError()\n",
    "    return (new_twostars_count / orig_twostars_count), (new_triangle_count / orig_triangles_count)\n",
    "    #raise NotImplementedError()\n",
    "    #return pi_twostars, pi_triangles"
   ]
  },
  {
   "cell_type": "code",
   "execution_count": 30,
   "metadata": {},
   "outputs": [],
   "source": [
    "def horvitz_thompson(obs_values, p):\n",
    "    \"\"\"\n",
    "    Returns the Horvitz-Thompson Estimator\n",
    "\n",
    "    Parameters\n",
    "    --------------------\n",
    "    obs_values: int or float, observed values from a sampled network\n",
    "    p: float, probability of obs_values\n",
    "    \"\"\"\n",
    "    ht = (1 / p) * obs_values\n",
    "\n",
    "    return ht"
   ]
  },
  {
   "cell_type": "code",
   "execution_count": 64,
   "metadata": {
    "deletable": false,
    "nbgrader": {
     "cell_type": "code",
     "checksum": "3a9e311641a6b27173527ac9ec3c867a",
     "grade": true,
     "grade_id": "cell-f09bb75167f25d75",
     "locked": false,
     "points": 0,
     "schema_version": 3,
     "solution": true,
     "task": false
    }
   },
   "outputs": [],
   "source": [
    "def ht_estimators(g, p, n_samp, sampling_type, empirical=False):\n",
    "    \"\"\"\n",
    "    Function for obtaining n_samp samples from a network g and returning the HT estimates, given a sampling type and sampling probabilty p.\n",
    "    Returns two lists of size n_samp, where each list contains HT estimates for transitivity and number of two-stars.\n",
    "\n",
    "    Parameters\n",
    "    ------------------------\n",
    "    g: a networkx network\n",
    "    p: float, sampling probability\n",
    "    n_samp: int, number of samples to obtain\n",
    "    sampling_type: str, either 'nodes', 'edges' or 'stars'\n",
    "    empirical: bool, if True, then do not use HT estimators\n",
    "    \"\"\"\n",
    "    transitivity_estimates = []\n",
    "    triangles_estimates = []\n",
    "\n",
    "    for i in range(n_samp):\n",
    "        \n",
    "        if sampling_type == 'nodes':\n",
    "            g_new = sample_nodes(g, p)\n",
    "            nodes = None\n",
    "            pi_twostars, pi_triangles = ht_node_probabilities(p)\n",
    "\n",
    "        elif sampling_type == 'edges':\n",
    "            g_new = sample_edges(g, p)\n",
    "            nodes = None\n",
    "            pi_twostars, pi_triangles = ht_edge_probabilities(p)\n",
    "\n",
    "        elif sampling_type == 'stars':\n",
    "            g_new, nodes = sample_stars(g, p)\n",
    "            pi_twostars, pi_triangles = ht_star_probabilities(p)\n",
    "        else:\n",
    "            raise ValueError(\"Invalid sampling_type, must be either 'nodes', 'edges' or 'stars'\")\n",
    "        #TODO: Count the statistics, build the HT estimators, plug-in for transitivity and save sampled value\n",
    "        #TODO: if empirical = True, simply do not use HT estimators\n",
    "        #if(empirical!=True):\n",
    "        transitivity_estimates.append(transitivity(horvitz_thompson(pi_triangles,count_triangles(g_new)),horvitz_thompson(pi_twostars,count_twostars(g_new))))\n",
    "        #transitivity_estimates[i]=transitivity(count_triangles(g_new), count_twostars(g_new))\n",
    "        #triangles_estimates.append(transitivity(horvitz_thompson(pi_triangles,count_triangles(g_new)),horvitz_thompson(pi_twostars,count_twostars(g_new))))\n",
    "\n",
    "        triangles_estimates.append(horvitz_thompson(pi_triangles,count_triangles(g_new)))\n",
    "        #raise NotImplementedError()\n",
    "\n",
    "    return transitivity_estimates, triangles_estimates"
   ]
  },
  {
   "cell_type": "code",
   "execution_count": 65,
   "metadata": {
    "deletable": false,
    "editable": false,
    "nbgrader": {
     "cell_type": "code",
     "checksum": "91a570566e1b2351d30c2d8283e272c7",
     "grade": false,
     "grade_id": "cell-04e7b7a6b0f3140c",
     "locked": true,
     "schema_version": 3,
     "solution": false,
     "task": false
    }
   },
   "outputs": [],
   "source": [
    "def plot_triangle_transitivity_histograms(n_samp, sampling_type, g, p_empirical=.5):\n",
    "    \"\"\"\n",
    "    Plot exercise histograms for n_samp samples and a given sampling_type (nodes, edges or stars).\n",
    "    Calls function ht_estimators for probabilites p=.2, .5, obtaining n_samp samples for each case. \n",
    "    Plots the HT estimators for number of triangles and transitivity, and the empirical estimators p=.5, as well \n",
    "    as the true values for transitivity and \n",
    "    \n",
    "    Paramters:\n",
    "    ------------------------\n",
    "    n_samp: int, number of samples\n",
    "    sampling_type: str, either 'nodes', 'edges' or 'stars'\n",
    "    g: networkx graph\n",
    "    p_empirical: float, probability value for which to obtain empirical estimators (without HR correction). \n",
    "    \"\"\"\n",
    "\n",
    "    fig = plt.figure(figsize=(8, 5))\n",
    "    probabilities = [ .2, .5]\n",
    "\n",
    "    estimator_name_triangles = r'$\\hat{\\tau}^' + sampling_type[0] + r'_{\\bigtriangleup}$'\n",
    "    ax1 = fig.add_subplot(2, 1, 1)\n",
    "    ax1.set_title('Estimators for triangles sampling {}, '.format(sampling_type) + estimator_name_triangles)\n",
    "    ax1.set_xlabel(estimator_name_triangles)\n",
    "\n",
    "    estimator_name_transit = r'$\\hat{\\tau}^' + sampling_type[0] + r'_C$'\n",
    "    ax2 = fig.add_subplot(2, 1, 2)\n",
    "    ax2.set_title('Estimators for transitivity sampling {}, '.format(sampling_type) + estimator_name_transit)\n",
    "    ax2.set_xlabel(estimator_name_transit)\n",
    "\n",
    "    #Plot HT estimates for different probabilities\n",
    "    for p in probabilities:\n",
    "        transit_est, triangles_est = ht_estimators(g, p, n_samp, sampling_type)\n",
    "        ax1.hist(triangles_est, 30, alpha=.5, density=True, label='p = {}'.format(p))\n",
    "        ax2.hist(transit_est, 30, alpha=.5, density=True, label='p = {}'.format(p))\n",
    "\n",
    "    #Obtain empirical estimates\n",
    "    transit_est, triangles_est = ht_estimators(g, p_empirical, n_samp, sampling_type, empirical=True)\n",
    "    ax1.hist(triangles_est, 30, alpha=.5, density=True, label='p_empirical = {}'.format(p_empirical))\n",
    "    ax2.hist(transit_est, 30, alpha=.5, density=True, label='p_empirical = {}'.format(p_empirical))\n",
    "\n",
    "    # Plot real values\n",
    "    n_triangles_orig = count_triangles(g)\n",
    "    n_twostars_orig = count_twostars(g)\n",
    "    transit_orig = transitivity(n_triangles_orig, n_twostars_orig)\n",
    "    ax1.axvline(n_triangles_orig, color='r') # n_triangles as obtained for the full network\n",
    "    ax2.axvline(transit_orig, color='r') # transit as obtained for the full network\n",
    "\n",
    "    ax1.legend(loc=0)\n",
    "    ax2.legend(loc=0)\n",
    "    fig.tight_layout()\n",
    "    fig.savefig('ht_estimator_sampling_{}.pdf'.format(sampling_type))"
   ]
  },
  {
   "cell_type": "code",
   "execution_count": 66,
   "metadata": {
    "deletable": false,
    "editable": false,
    "nbgrader": {
     "cell_type": "code",
     "checksum": "0754462506e63faab03a8beaa1c72ebc",
     "grade": false,
     "grade_id": "cell-78809ee9d4105414",
     "locked": true,
     "schema_version": 3,
     "solution": false,
     "task": false
    }
   },
   "outputs": [
    {
     "ename": "AttributeError",
     "evalue": "'tuple' object has no attribute 'degree'",
     "output_type": "error",
     "traceback": [
      "\u001b[0;31m---------------------------------------------------------------------------\u001b[0m",
      "\u001b[0;31mAttributeError\u001b[0m                            Traceback (most recent call last)",
      "\u001b[0;32m<ipython-input-66-1c839b79c6af>\u001b[0m in \u001b[0;36m<module>\u001b[0;34m\u001b[0m\n\u001b[1;32m      9\u001b[0m \u001b[0;31m# Histograms for star sampling\u001b[0m\u001b[0;34m\u001b[0m\u001b[0;34m\u001b[0m\u001b[0;34m\u001b[0m\u001b[0m\n\u001b[1;32m     10\u001b[0m \u001b[0mn_samp\u001b[0m \u001b[0;34m=\u001b[0m \u001b[0;36m100\u001b[0m\u001b[0;34m\u001b[0m\u001b[0;34m\u001b[0m\u001b[0m\n\u001b[0;32m---> 11\u001b[0;31m \u001b[0mplot_triangle_transitivity_histograms\u001b[0m\u001b[0;34m(\u001b[0m\u001b[0mn_samp\u001b[0m\u001b[0;34m,\u001b[0m \u001b[0;34m'stars'\u001b[0m\u001b[0;34m,\u001b[0m \u001b[0mg\u001b[0m\u001b[0;34m,\u001b[0m \u001b[0mp_empirical\u001b[0m\u001b[0;34m=\u001b[0m\u001b[0;36m.5\u001b[0m\u001b[0;34m)\u001b[0m\u001b[0;34m\u001b[0m\u001b[0;34m\u001b[0m\u001b[0m\n\u001b[0m",
      "\u001b[0;32m<ipython-input-65-0860360701ce>\u001b[0m in \u001b[0;36mplot_triangle_transitivity_histograms\u001b[0;34m(n_samp, sampling_type, g, p_empirical)\u001b[0m\n\u001b[1;32m     29\u001b[0m     \u001b[0;31m#Plot HT estimates for different probabilities\u001b[0m\u001b[0;34m\u001b[0m\u001b[0;34m\u001b[0m\u001b[0;34m\u001b[0m\u001b[0m\n\u001b[1;32m     30\u001b[0m     \u001b[0;32mfor\u001b[0m \u001b[0mp\u001b[0m \u001b[0;32min\u001b[0m \u001b[0mprobabilities\u001b[0m\u001b[0;34m:\u001b[0m\u001b[0;34m\u001b[0m\u001b[0;34m\u001b[0m\u001b[0m\n\u001b[0;32m---> 31\u001b[0;31m         \u001b[0mtransit_est\u001b[0m\u001b[0;34m,\u001b[0m \u001b[0mtriangles_est\u001b[0m \u001b[0;34m=\u001b[0m \u001b[0mht_estimators\u001b[0m\u001b[0;34m(\u001b[0m\u001b[0mg\u001b[0m\u001b[0;34m,\u001b[0m \u001b[0mp\u001b[0m\u001b[0;34m,\u001b[0m \u001b[0mn_samp\u001b[0m\u001b[0;34m,\u001b[0m \u001b[0msampling_type\u001b[0m\u001b[0;34m)\u001b[0m\u001b[0;34m\u001b[0m\u001b[0;34m\u001b[0m\u001b[0m\n\u001b[0m\u001b[1;32m     32\u001b[0m         \u001b[0max1\u001b[0m\u001b[0;34m.\u001b[0m\u001b[0mhist\u001b[0m\u001b[0;34m(\u001b[0m\u001b[0mtriangles_est\u001b[0m\u001b[0;34m,\u001b[0m \u001b[0;36m30\u001b[0m\u001b[0;34m,\u001b[0m \u001b[0malpha\u001b[0m\u001b[0;34m=\u001b[0m\u001b[0;36m.5\u001b[0m\u001b[0;34m,\u001b[0m \u001b[0mdensity\u001b[0m\u001b[0;34m=\u001b[0m\u001b[0;32mTrue\u001b[0m\u001b[0;34m,\u001b[0m \u001b[0mlabel\u001b[0m\u001b[0;34m=\u001b[0m\u001b[0;34m'p = {}'\u001b[0m\u001b[0;34m.\u001b[0m\u001b[0mformat\u001b[0m\u001b[0;34m(\u001b[0m\u001b[0mp\u001b[0m\u001b[0;34m)\u001b[0m\u001b[0;34m)\u001b[0m\u001b[0;34m\u001b[0m\u001b[0;34m\u001b[0m\u001b[0m\n\u001b[1;32m     33\u001b[0m         \u001b[0max2\u001b[0m\u001b[0;34m.\u001b[0m\u001b[0mhist\u001b[0m\u001b[0;34m(\u001b[0m\u001b[0mtransit_est\u001b[0m\u001b[0;34m,\u001b[0m \u001b[0;36m30\u001b[0m\u001b[0;34m,\u001b[0m \u001b[0malpha\u001b[0m\u001b[0;34m=\u001b[0m\u001b[0;36m.5\u001b[0m\u001b[0;34m,\u001b[0m \u001b[0mdensity\u001b[0m\u001b[0;34m=\u001b[0m\u001b[0;32mTrue\u001b[0m\u001b[0;34m,\u001b[0m \u001b[0mlabel\u001b[0m\u001b[0;34m=\u001b[0m\u001b[0;34m'p = {}'\u001b[0m\u001b[0;34m.\u001b[0m\u001b[0mformat\u001b[0m\u001b[0;34m(\u001b[0m\u001b[0mp\u001b[0m\u001b[0;34m)\u001b[0m\u001b[0;34m)\u001b[0m\u001b[0;34m\u001b[0m\u001b[0;34m\u001b[0m\u001b[0m\n",
      "\u001b[0;32m<ipython-input-64-a2f5a4d5a106>\u001b[0m in \u001b[0;36mht_estimators\u001b[0;34m(g, p, n_samp, sampling_type, empirical)\u001b[0m\n\u001b[1;32m     29\u001b[0m         \u001b[0;32melif\u001b[0m \u001b[0msampling_type\u001b[0m \u001b[0;34m==\u001b[0m \u001b[0;34m'stars'\u001b[0m\u001b[0;34m:\u001b[0m\u001b[0;34m\u001b[0m\u001b[0;34m\u001b[0m\u001b[0m\n\u001b[1;32m     30\u001b[0m             \u001b[0mg_new\u001b[0m\u001b[0;34m,\u001b[0m \u001b[0mnodes\u001b[0m \u001b[0;34m=\u001b[0m \u001b[0msample_stars\u001b[0m\u001b[0;34m(\u001b[0m\u001b[0mg\u001b[0m\u001b[0;34m,\u001b[0m \u001b[0mp\u001b[0m\u001b[0;34m)\u001b[0m\u001b[0;34m\u001b[0m\u001b[0;34m\u001b[0m\u001b[0m\n\u001b[0;32m---> 31\u001b[0;31m             \u001b[0mpi_twostars\u001b[0m\u001b[0;34m,\u001b[0m \u001b[0mpi_triangles\u001b[0m \u001b[0;34m=\u001b[0m \u001b[0mht_star_probabilities\u001b[0m\u001b[0;34m(\u001b[0m\u001b[0mp\u001b[0m\u001b[0;34m)\u001b[0m\u001b[0;34m\u001b[0m\u001b[0;34m\u001b[0m\u001b[0m\n\u001b[0m\u001b[1;32m     32\u001b[0m         \u001b[0;32melse\u001b[0m\u001b[0;34m:\u001b[0m\u001b[0;34m\u001b[0m\u001b[0;34m\u001b[0m\u001b[0m\n\u001b[1;32m     33\u001b[0m             \u001b[0;32mraise\u001b[0m \u001b[0mValueError\u001b[0m\u001b[0;34m(\u001b[0m\u001b[0;34m\"Invalid sampling_type, must be either 'nodes', 'edges' or 'stars'\"\u001b[0m\u001b[0;34m)\u001b[0m\u001b[0;34m\u001b[0m\u001b[0;34m\u001b[0m\u001b[0m\n",
      "\u001b[0;32m<ipython-input-29-c5c8745bda66>\u001b[0m in \u001b[0;36mht_star_probabilities\u001b[0;34m(p)\u001b[0m\n\u001b[1;32m     17\u001b[0m     \u001b[0morig_triangles_count\u001b[0m \u001b[0;34m=\u001b[0m \u001b[0mcount_triangles\u001b[0m\u001b[0;34m(\u001b[0m\u001b[0mg\u001b[0m\u001b[0;34m)\u001b[0m\u001b[0;34m\u001b[0m\u001b[0;34m\u001b[0m\u001b[0m\n\u001b[1;32m     18\u001b[0m     \u001b[0mg_new\u001b[0m \u001b[0;34m=\u001b[0m \u001b[0msample_stars\u001b[0m\u001b[0;34m(\u001b[0m\u001b[0mg\u001b[0m\u001b[0;34m,\u001b[0m \u001b[0mp\u001b[0m\u001b[0;34m)\u001b[0m\u001b[0;34m\u001b[0m\u001b[0;34m\u001b[0m\u001b[0m\n\u001b[0;32m---> 19\u001b[0;31m     \u001b[0mnew_twostars_count\u001b[0m \u001b[0;34m=\u001b[0m \u001b[0mcount_twostars\u001b[0m\u001b[0;34m(\u001b[0m\u001b[0mg_new\u001b[0m\u001b[0;34m)\u001b[0m\u001b[0;34m\u001b[0m\u001b[0;34m\u001b[0m\u001b[0m\n\u001b[0m\u001b[1;32m     20\u001b[0m     \u001b[0mnew_triangle_count\u001b[0m \u001b[0;34m=\u001b[0m \u001b[0mcount_triangles\u001b[0m\u001b[0;34m(\u001b[0m\u001b[0mg_new\u001b[0m\u001b[0;34m)\u001b[0m\u001b[0;34m\u001b[0m\u001b[0;34m\u001b[0m\u001b[0m\n\u001b[1;32m     21\u001b[0m \u001b[0;34m\u001b[0m\u001b[0m\n",
      "\u001b[0;32m<ipython-input-25-ba11d4c61997>\u001b[0m in \u001b[0;36mcount_twostars\u001b[0;34m(g, nodes)\u001b[0m\n\u001b[1;32m      9\u001b[0m     \"\"\"\n\u001b[1;32m     10\u001b[0m     \u001b[0;32mif\u001b[0m \u001b[0;32mnot\u001b[0m \u001b[0mnodes\u001b[0m\u001b[0;34m:\u001b[0m\u001b[0;34m\u001b[0m\u001b[0;34m\u001b[0m\u001b[0m\n\u001b[0;32m---> 11\u001b[0;31m         \u001b[0mtwo_stars\u001b[0m \u001b[0;34m=\u001b[0m \u001b[0;34m[\u001b[0m\u001b[0mk\u001b[0m\u001b[0;34m*\u001b[0m\u001b[0;34m(\u001b[0m\u001b[0mk\u001b[0m \u001b[0;34m-\u001b[0m \u001b[0;36m1\u001b[0m\u001b[0;34m)\u001b[0m\u001b[0;34m/\u001b[0m\u001b[0;36m2\u001b[0m \u001b[0;32mfor\u001b[0m \u001b[0mn\u001b[0m\u001b[0;34m,\u001b[0m \u001b[0mk\u001b[0m \u001b[0;32min\u001b[0m \u001b[0mg\u001b[0m\u001b[0;34m.\u001b[0m\u001b[0mdegree\u001b[0m\u001b[0;34m(\u001b[0m\u001b[0;34m)\u001b[0m\u001b[0;34m]\u001b[0m\u001b[0;34m\u001b[0m\u001b[0;34m\u001b[0m\u001b[0m\n\u001b[0m\u001b[1;32m     12\u001b[0m     \u001b[0;32melse\u001b[0m\u001b[0;34m:\u001b[0m\u001b[0;34m\u001b[0m\u001b[0;34m\u001b[0m\u001b[0m\n\u001b[1;32m     13\u001b[0m         \u001b[0mtwo_stars\u001b[0m \u001b[0;34m=\u001b[0m \u001b[0;34m[\u001b[0m\u001b[0mk\u001b[0m\u001b[0;34m*\u001b[0m\u001b[0;34m(\u001b[0m\u001b[0mk\u001b[0m \u001b[0;34m-\u001b[0m \u001b[0;36m1\u001b[0m\u001b[0;34m)\u001b[0m\u001b[0;34m/\u001b[0m\u001b[0;36m2\u001b[0m \u001b[0;32mfor\u001b[0m \u001b[0mn\u001b[0m\u001b[0;34m,\u001b[0m \u001b[0mk\u001b[0m \u001b[0;32min\u001b[0m \u001b[0mg\u001b[0m\u001b[0;34m.\u001b[0m\u001b[0mdegree\u001b[0m\u001b[0;34m(\u001b[0m\u001b[0;34m)\u001b[0m \u001b[0;32mif\u001b[0m \u001b[0mn\u001b[0m \u001b[0;32min\u001b[0m \u001b[0mnodes\u001b[0m\u001b[0;34m]\u001b[0m\u001b[0;34m\u001b[0m\u001b[0;34m\u001b[0m\u001b[0m\n",
      "\u001b[0;31mAttributeError\u001b[0m: 'tuple' object has no attribute 'degree'"
     ]
    },
    {
     "data": {
      "image/png": "[encoded data removed]",
      "text/plain": [
       "<Figure size 576x360 with 2 Axes>"
      ]
     },
     "metadata": {
      "needs_background": "light"
     },
     "output_type": "display_data"
    },
    {
     "data": {
      "image/png": "[encoded data removed]",
      "text/plain": [
       "<Figure size 576x360 with 2 Axes>"
      ]
     },
     "metadata": {
      "needs_background": "light"
     },
     "output_type": "display_data"
    },
    {
     "data": {
      "image/png": "[encoded data removed]",
      "text/plain": [
       "<Figure size 576x360 with 2 Axes>"
      ]
     },
     "metadata": {
      "needs_background": "light"
     },
     "output_type": "display_data"
    }
   ],
   "source": [
    "# d)# Histograms for node sampling\n",
    "n_samp = 100\n",
    "plot_triangle_transitivity_histograms(n_samp, 'nodes', g, p_empirical=.5)\n",
    "\n",
    "# Histograms for edge sampling\n",
    "n_samp = 100\n",
    "plot_triangle_transitivity_histograms(n_samp, 'edges', g, p_empirical=.5)\n",
    "\n",
    "# Histograms for star sampling\n",
    "n_samp = 100\n",
    "plot_triangle_transitivity_histograms(n_samp, 'stars', g, p_empirical=.5)"
   ]
  },
  {
   "cell_type": "code",
   "execution_count": null,
   "metadata": {},
   "outputs": [],
   "source": []
  }
 ],
 "metadata": {
  "kernelspec": {
   "display_name": "Python 3",
   "language": "python",
   "name": "python3"
  },
  "language_info": {
   "codemirror_mode": {
    "name": "ipython",
    "version": 3
   },
   "file_extension": ".py",
   "mimetype": "text/x-python",
   "name": "python",
   "nbconvert_exporter": "python",
   "pygments_lexer": "ipython3",
   "version": "3.8.3"
  },
  "varInspector": {
   "cols": {
    "lenName": 16,
    "lenType": 16,
    "lenVar": 40
   },
   "kernels_config": {
    "python": {
     "delete_cmd_postfix": "",
     "delete_cmd_prefix": "del ",
     "library": "var_list.py",
     "varRefreshCmd": "print(var_dic_list())"
    },
    "r": {
     "delete_cmd_postfix": ") ",
     "delete_cmd_prefix": "rm(",
     "library": "var_list.r",
     "varRefreshCmd": "cat(var_dic_list()) "
    }
   },
   "types_to_exclude": [
    "module",
    "function",
    "builtin_function_or_method",
    "instance",
    "_Feature"
   ],
   "window_display": false
  }
 },
 "nbformat": 4,
 "nbformat_minor": 2
}
