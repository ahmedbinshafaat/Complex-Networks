{
 "cells": [
  {
   "cell_type": "markdown",
   "metadata": {
    "deletable": false,
    "editable": false,
    "nbgrader": {
     "cell_type": "markdown",
     "checksum": "e054763fb894244f856781a5625f13e2",
     "grade": false,
     "grade_id": "cell-4b0a76f678962276",
     "locked": true,
     "schema_version": 3,
     "solution": false,
     "task": false
    }
   },
   "source": [
    "# Round 1. Computing network properties with NetworkX\n",
    "\n",
    "In this exercise, you will get some hands-on experience of NetworkX (https://networkx.github.io/ ) by calculating some basic network properties. The dataset we use here, the Zachary karate club network (Zachary, W., 1997, An information flow model for conflict and fission in small groups), is a famous example of a social network, where the club eventually splits into two parts because of a dispute between two leaders. \n",
    "\n",
    "The dataset edge list file `karate_club_network_edge_file.edg` can be found in the course MyCourses page or in the coursedata folder.\n",
    "\n",
    "To get you started, you may use this notebook or the accompanying Python template `compute_network_properties.py` available in MyCourses. **The usage of the notebook or template is fully optional**. If using the notebook or template, you only need to fill in the required functions. Some of the functions do NOT need modifications. You may start your solution after the subtitle \"**Begin of the Exercise**\" down below. \n",
    "\n",
    "In addition to returning a short report of your results (including the visualizations), return also your commented Python code or notebook (all code of the round as a **zip** file). **Always label the axes in your figures!**\n",
    "\n",
    "**Hint**: Check also the NetworkX online tutorial and index: https://networkx.github.io/documentation/stable/tutorial.html, https://networkx.github.io/documentation/stable/reference/index.html.\n"
   ]
  },
  {
   "cell_type": "code",
   "execution_count": 2,
   "metadata": {
    "deletable": false,
    "editable": false,
    "nbgrader": {
     "cell_type": "code",
     "checksum": "4f88206a2bfdab579e49cf2cea9f311d",
     "grade": false,
     "grade_id": "cell-2ae4bcc731e16bff",
     "locked": true,
     "schema_version": 3,
     "solution": false,
     "task": false
    }
   },
   "outputs": [],
   "source": [
    "import networkx as nx\n",
    "import matplotlib as mpl\n",
    "import matplotlib.pyplot as plt\n",
    "import numpy as np"
   ]
  },
  {
   "cell_type": "code",
   "execution_count": 3,
   "metadata": {
    "deletable": false,
    "editable": false,
    "nbgrader": {
     "cell_type": "code",
     "checksum": "2059d227919008dbe5e7dfab86ab46f3",
     "grade": false,
     "grade_id": "cell-4661cd983887ccb5",
     "locked": true,
     "schema_version": 3,
     "solution": false,
     "task": false
    }
   },
   "outputs": [],
   "source": [
    "def plot_distribution(y_values, x_values, style, x_label, y_label):\n",
    "    \"\"\"\n",
    "    Plots the pre-calculated distribution y(x)\n",
    "    Returns the figure object\n",
    "\n",
    "    Parameters\n",
    "    ----------\n",
    "    y_values: list\n",
    "        list of values corresponding to the pre-calculated distribution y(x)\n",
    "    x_values: list\n",
    "        the x values for plotting\n",
    "    style: str\n",
    "        style of the visualization ('bar' or 'logplot')\n",
    "    x_label: str\n",
    "        label of the x axis of the figure\n",
    "    y_label: str\n",
    "        label of the y axis of the figure\n",
    "    \"\"\"\n",
    "\n",
    "    # If you are new to matplotlib and want to learn how it works, please read the comments below.\n",
    "    # The logic is fairly similar to Matlab (also if you use Matlab's handles which are figure objects here)\n",
    "    # We will use two objects: figure object fig is the whole canvas (or \"window\");\n",
    "    # and ax is the pair of axes inside fig where your graph will be plotted.\n",
    "    #\n",
    "    # If *very* interested in how all this works, see https://matplotlib.org/api/_as_gen/matplotlib.figure.Figure.html#matplotlib.figure.Figurehttps://matplotlib.org/api/_as_gen/matplotlib.figure.Figure.html#matplotlib.figure.Figure\n",
    "    # and https://matplotlib.org/api/axes_api.html \n",
    "\n",
    "    fig = plt.figure() # Creates a new figure canvas for the plot and returns the object as fig\n",
    "    ax = fig.add_subplot(111) # Creates a new axis object (ax) in the figure fig. The add_subplot(111) means adding the first subplot in an 1x1 grid of subplots; if you'd like to create the first of say four (2x2), you would say add_subplot(221) \n",
    "    if style == 'bar': # for plotting a bar chart\n",
    "        offset = 0.5\n",
    "        if mpl.__version__[0] == \"2\":\n",
    "            # fix for the different api in matplotlib 2.X \n",
    "            offset = 0\n",
    "        ax.bar(np.array(x_values) - offset, y_values, width=0.5) # plots a bar chart in axes ax with xvalues-offset as the x axis values and y_values as bar heights\n",
    "    elif style == 'logplot': # for plotting on double log axes\n",
    "        ax.loglog(x_values, y_values, 'k', marker='.') # plots a double log plot in axes ax, with black ('k') dots ('.')\n",
    "    ax.set_xlabel(x_label) # sets the label of the x axis\n",
    "    ax.set_ylabel(y_label) # sets the label of the y axis\n",
    "\n",
    "    return fig # Returns the figure object for showing or saving or both"
   ]
  },
  {
   "cell_type": "code",
   "execution_count": 4,
   "metadata": {
    "deletable": false,
    "editable": false,
    "nbgrader": {
     "cell_type": "code",
     "checksum": "a2dbb16e1219ba2b8e2590300df79d62",
     "grade": false,
     "grade_id": "cell-139fa04a2b49619f",
     "locked": true,
     "schema_version": 3,
     "solution": false,
     "task": false
    }
   },
   "outputs": [],
   "source": [
    "def visualize_network(network, figure_title):\n",
    "    \"\"\"\n",
    "    Visualizes network \"network\" with networkx, using nx.draw().\n",
    "    Returns a figure object. \n",
    "\n",
    "    Parameters\n",
    "    ----------\n",
    "    network: a networkx Graph object\n",
    "    figure_title: title of the figure\n",
    "\n",
    "    \"\"\"\n",
    "    fig = plt.figure()\n",
    "    ax = fig.add_subplot(111)\n",
    "    nx.draw(network) # networkx command for drawing the network\n",
    "    ax.set_title(figure_title) # sets the title for the figure\n",
    "\n",
    "    return fig"
   ]
  },
  {
   "cell_type": "code",
   "execution_count": 5,
   "metadata": {
    "deletable": false,
    "editable": false,
    "nbgrader": {
     "cell_type": "code",
     "checksum": "03dd2235c2bcab01f3455b40a7f26ae7",
     "grade": false,
     "grade_id": "cell-954c45ac3f7d2300",
     "locked": true,
     "schema_version": 3,
     "solution": false,
     "task": false
    }
   },
   "outputs": [],
   "source": [
    "def calculate_and_plot_discrete_distribution(input_list, x_label, y_label):\n",
    "    \"\"\"\n",
    "    Calculates and visualizes the discrete probability distribution of a variable\n",
    "    whose values are given in input_list and returns the figure object\n",
    "\n",
    "    Parameters\n",
    "    ----------\n",
    "    input_list: list\n",
    "        a list of the variable values, e.g. node degrees\n",
    "    x_label: str\n",
    "        label of the x axis of the figure\n",
    "    y_label: str\n",
    "        label of the y axis of the figure\n",
    "\n",
    "    Returns\n",
    "    -------\n",
    "    Nothing\n",
    "    \"\"\"\n",
    "    assert len(input_list) > 0, \"The input list should not be empty!\"\n",
    "    # Calculate the distribution:\n",
    "    # np = NumPy, we use the ready-made function bincount that counts the number of non-negative integers\n",
    "    # in the input_list, up to the max value in the input list, and returns an array of counts\n",
    "    distribution = np.bincount(input_list)  \n",
    "    n = len(input_list)\n",
    "    # Normalize:\n",
    "    distribution = distribution / float(n)\n",
    "    # Visualize:\n",
    "    min_range = 0\n",
    "    max_range = max(input_list) + 1\n",
    "    x_values = list(range(min_range, max_range)) # range(i,j) gives an iterator from i to j, list(range(i,j)) makes a list out of it.\n",
    "\n",
    "    fig = plot_distribution(distribution, x_values, 'bar', x_label, y_label) # uses the function defined above\n",
    "\n",
    "    return fig"
   ]
  },
  {
   "cell_type": "code",
   "execution_count": 6,
   "metadata": {
    "deletable": false,
    "editable": false,
    "nbgrader": {
     "cell_type": "code",
     "checksum": "ad08b7e9b2f8f194ca03252b7613983e",
     "grade": false,
     "grade_id": "cell-d6e01aa8288db42c",
     "locked": true,
     "schema_version": 3,
     "solution": false,
     "task": false
    }
   },
   "outputs": [],
   "source": [
    "def cdf(input_list):\n",
    "    \"\"\"\n",
    "    Calculates the cumulative distribution function of input_list; cdf(k) = p that value smaller than k\n",
    "\n",
    "    Parameters\n",
    "    ----------\n",
    "    input_list : list\n",
    "        a list of numbers whose frequencies are used to compute the cdf\n",
    "\n",
    "    Returns\n",
    "    -------\n",
    "    x_points: the values for which the cdf is computed\n",
    "    cdf: np.array\n",
    "        cdf for the above values \n",
    "    \"\"\"\n",
    "    input_array = np.array(input_list)\n",
    "    x_points = np.unique(input_array) # np.unique gives back a sorted list of unique values in input_array\n",
    "    cdf = []\n",
    "    normalizer=float(input_array.size) # input_array.size is the same as len(input_array)\n",
    "\n",
    "    for x in x_points:\n",
    "\n",
    "        cdf.append((input_array[np.where(input_array < x)].size)/normalizer) # appends the share of entries in input_list with values < x\n",
    "\n",
    "    return (x_points, np.array(cdf))"
   ]
  },
  {
   "cell_type": "markdown",
   "metadata": {
    "deletable": false,
    "editable": false,
    "nbgrader": {
     "cell_type": "markdown",
     "checksum": "96c5cdb40fb421faf703c63c08b19fea",
     "grade": false,
     "grade_id": "cell-edd9abe3d8b7b825",
     "locked": true,
     "schema_version": 3,
     "solution": false,
     "task": false
    }
   },
   "source": [
    "## Data\n",
    "Let us load the data from the right folder and assign the names for all the plots we will save. If you run this notebook in your machine, please specify the right folder."
   ]
  },
  {
   "cell_type": "code",
   "execution_count": 7,
   "metadata": {},
   "outputs": [
    {
     "name": "stdout",
     "output_type": "stream",
     "text": [
      "The data directory is /coursedata\n"
     ]
    }
   ],
   "source": [
    "# Select data directory\n",
    "import os\n",
    "if os.path.isdir('/coursedata'):\n",
    "    course_data_dir = '/coursedata'\n",
    "elif os.path.isdir('../data'):\n",
    "    course_data_dir = '../data'\n",
    "else:\n",
    "    # Specify course_data_dir on your machine\n",
    "    course_data_dir = 'some_path'\n",
    "    # YOUR CODE HERE\n",
    "    #raise NotImplementedError()\n",
    "\n",
    "print('The data directory is %s' % course_data_dir)\n",
    "\n",
    "network_fname = os.path.join(course_data_dir, 'karate_club_network_edge_file.edg')"
   ]
  },
  {
   "cell_type": "markdown",
   "metadata": {
    "deletable": false,
    "editable": false,
    "nbgrader": {
     "cell_type": "markdown",
     "checksum": "b6a33b19ff33375e667622dd4e020b80",
     "grade": false,
     "grade_id": "cell-cf3c4f62374b45fa",
     "locked": true,
     "schema_version": 3,
     "solution": false,
     "task": false
    }
   },
   "source": [
    "# Begin of the Exercise\n",
    "Write your code here to compute the requested network properties"
   ]
  },
  {
   "cell_type": "markdown",
   "metadata": {
    "deletable": false,
    "editable": false,
    "nbgrader": {
     "cell_type": "markdown",
     "checksum": "7e54abbde0268f7a74fd131460de4393",
     "grade": false,
     "grade_id": "cell-e154d4056665d854",
     "locked": true,
     "schema_version": 3,
     "solution": false,
     "task": false
    }
   },
   "source": [
    "### a. Visualization\n",
    "Load the edge list and visualize the network. To achieve this, you will need to modify the function `load_network` first.\n",
    "The split of the club should be reflected in the shape of the visualized network."
   ]
  },
  {
   "cell_type": "code",
   "execution_count": 8,
   "metadata": {
    "deletable": false,
    "nbgrader": {
     "cell_type": "code",
     "checksum": "5273db2d4e853add869609d0a3a11ee5",
     "grade": true,
     "grade_id": "cell-4f0ed3c69288abdb",
     "locked": false,
     "points": 1,
     "schema_version": 3,
     "solution": true,
     "task": false
    }
   },
   "outputs": [],
   "source": [
    "def load_network(network_fname):\n",
    "    \"\"\"\n",
    "    A function for loading a network from an edgelist (.edg) file.\n",
    "\n",
    "    Parameters\n",
    "    ----------\n",
    "    network_fname: full or relative path (including file name) of the .edg file\n",
    "\n",
    "    Returns\n",
    "    -------\n",
    "    network: the loaded network as NetworkX Graph() object\n",
    "    \"\"\"\n",
    "    print()\n",
    "    net = G = nx.read_weighted_edgelist(network_fname)\n",
    "    # YOUR CODE HERE\n",
    "    #raise NotImplementedError()\n",
    "    #TODO: use networkx to load in the network\n",
    "    # See networkx documentation or the Python tutorial for help:\n",
    "    # https://networkx.github.io/documentation/stable/reference/readwrite/\n",
    "    # Look for a function that reads an edge file that is weighted.\n",
    "    \n",
    "\n",
    "    # The following two assertion statements stops the execution of\n",
    "    # this program if the network is not correctly loaded:\n",
    "    assert net is not None, \"network was not correctly loaded\"\n",
    "    assert len(net) > 0, \"network should contain at least one node\"\n",
    "\n",
    "    return net"
   ]
  },
  {
   "cell_type": "code",
   "execution_count": 9,
   "metadata": {},
   "outputs": [
    {
     "name": "stdout",
     "output_type": "stream",
     "text": [
      "\n"
     ]
    },
    {
     "data": {
      "image/png": "[encoded data removed]",
      "text/plain": [
       "<Figure size 432x288 with 1 Axes>"
      ]
     },
     "metadata": {},
     "output_type": "display_data"
    }
   ],
   "source": [
    "network = load_network(network_fname)\n",
    "figure_title = 'The Karate Club network'\n",
    "fig = visualize_network(network, figure_title)\n",
    "\n",
    "figure_fname = 'karate-club-network.pdf'\n",
    "fig.savefig(figure_fname)"
   ]
  },
  {
   "cell_type": "markdown",
   "metadata": {
    "deletable": false,
    "editable": false,
    "nbgrader": {
     "cell_type": "markdown",
     "checksum": "663ca4793d049f9cc19655dc4747ba1d",
     "grade": false,
     "grade_id": "cell-a3eabe7cd7aa64eb",
     "locked": true,
     "schema_version": 3,
     "solution": false,
     "task": false
    }
   },
   "source": [
    "### b. Edge density\n",
    "Calculate the edge density of the karate club network. First, write your own code without using the function `density` and then compare your result to the output of `networkx.density` (the corresponding NetworkX function)."
   ]
  },
  {
   "cell_type": "code",
   "execution_count": 10,
   "metadata": {
    "deletable": false,
    "nbgrader": {
     "cell_type": "code",
     "checksum": "53afc5795d763cad30fc9296f58b94cc",
     "grade": true,
     "grade_id": "cell-2bf58360eff8bbb1",
     "locked": false,
     "points": 1,
     "schema_version": 3,
     "solution": true,
     "task": false
    }
   },
   "outputs": [],
   "source": [
    "def density(network):\n",
    "    \"\"\"\n",
    "    Calculates the network edge density: D = 2*m / n(n-1) where m=# of edges, n=# of nodes\n",
    "\n",
    "    Parameters\n",
    "    ----------\n",
    "    network: a NetworkX graph object\n",
    "\n",
    "    Returns\n",
    "    -------\n",
    "    D: network edge density\n",
    "    \"\"\"\n",
    "    nodes=nx.number_of_nodes(network)\n",
    "    edges=nx.number_of_edges(network)\n",
    "    D = 2 * edges / (nodes*(nodes-1))\n",
    "    # YOUR CODE HERE\n",
    "    #raise NotImplementedError()\n",
    "    #TODO: Replace the network density definition!\n",
    "    # To do this, you need to access some basic properties of a networkx graph\n",
    "    return D"
   ]
  },
  {
   "cell_type": "code",
   "execution_count": 11,
   "metadata": {
    "deletable": false,
    "editable": false,
    "nbgrader": {
     "cell_type": "code",
     "checksum": "3ba761db3804c8f5a5c32f0455798c66",
     "grade": false,
     "grade_id": "cell-e1a0100715a4236a",
     "locked": true,
     "schema_version": 3,
     "solution": false,
     "task": false
    }
   },
   "outputs": [
    {
     "name": "stdout",
     "output_type": "stream",
     "text": [
      "D from self-written algorithm: 0.13903743315508021\n",
      "D from NetworkX: 0.13903743315508021\n"
     ]
    }
   ],
   "source": [
    "D_own = density(network)\n",
    "D_nx = nx.density(network)\n",
    "print('D from self-written algorithm: ' + str(D_own))\n",
    "print('D from NetworkX: ' + str(D_nx))"
   ]
  },
  {
   "cell_type": "markdown",
   "metadata": {
    "deletable": false,
    "editable": false,
    "nbgrader": {
     "cell_type": "markdown",
     "checksum": "e21bcd1a5edd086cc6b060d9ff1da866",
     "grade": false,
     "grade_id": "cell-e880f29366cf879d",
     "locked": true,
     "schema_version": 3,
     "solution": false,
     "task": false
    }
   },
   "source": [
    "### c. Average shortest path length\n",
    "Calculate the average shortest path length $ \\langle l \\rangle $. Here, you don't need to write your own algorithm. It is sufficient to use the relevant `networkx` function."
   ]
  },
  {
   "cell_type": "code",
   "execution_count": 12,
   "metadata": {
    "deletable": false,
    "nbgrader": {
     "cell_type": "code",
     "checksum": "eaf4864f137dda9264259a88b8de49bf",
     "grade": true,
     "grade_id": "cell-0212503e33dc36cb",
     "locked": false,
     "points": 1,
     "schema_version": 3,
     "solution": true,
     "task": false
    }
   },
   "outputs": [
    {
     "name": "stdout",
     "output_type": "stream",
     "text": [
      "<l> from NetworkX: 2.408199643493761\n"
     ]
    }
   ],
   "source": [
    "#TIP: #TODO: to be replaced with a correct definition using a NetworkX function\n",
    "l_nx = nx.average_shortest_path_length(network) \n",
    "\n",
    "# YOUR CODE HERE\n",
    "#raise NotImplementedError()\n",
    "assert l_nx is not None, \"Avg. path length has not been computed\"\n",
    "print('<l> from NetworkX: ' + str(l_nx))"
   ]
  },
  {
   "cell_type": "markdown",
   "metadata": {
    "deletable": false,
    "editable": false,
    "nbgrader": {
     "cell_type": "markdown",
     "checksum": "65f7dd60e8c0de7e720d24f292e71fe6",
     "grade": false,
     "grade_id": "cell-86e022e9f8effa53",
     "locked": true,
     "schema_version": 3,
     "solution": false,
     "task": false
    }
   },
   "source": [
    "### d. Average clustering coefficient\n",
    "Calculate the average clustering coefficient using the relevant ready-made networkx function. To calculate the average clustering coefficient, modify the `clustering_and_average_clustering` function."
   ]
  },
  {
   "cell_type": "code",
   "execution_count": 13,
   "metadata": {
    "deletable": false,
    "editable": false,
    "nbgrader": {
     "cell_type": "code",
     "checksum": "05d6698d5c17ff66fa68828fc1c99a19",
     "grade": false,
     "grade_id": "cell-0c510984149246e7",
     "locked": true,
     "schema_version": 3,
     "solution": false,
     "task": false
    }
   },
   "outputs": [
    {
     "name": "stdout",
     "output_type": "stream",
     "text": [
      "C from NetworkX: 0.5706384782076824\n"
     ]
    }
   ],
   "source": [
    "C_nx = nx.average_clustering(network, count_zeros=True)\n",
    "## The parameter count_zeros is set to True to include nodes with C=0\n",
    "## into the average:\n",
    "print('C from NetworkX: ' + str(C_nx))"
   ]
  },
  {
   "cell_type": "markdown",
   "metadata": {
    "deletable": false,
    "editable": false,
    "nbgrader": {
     "cell_type": "markdown",
     "checksum": "7f47132b5a2471e99e3161e0ca938cae",
     "grade": false,
     "grade_id": "cell-230d8340d18bcecc",
     "locked": true,
     "schema_version": 3,
     "solution": false,
     "task": false
    }
   },
   "source": [
    "### e. Degree distribution\n",
    "Calculate the degree distribution $P(k)$ and the complementary cumulative degree distribution 1-CDF($k$) of the network.\n",
    "\n",
    "Visualize the distributions using `matplotlib.pyplot`. Check tutorial at http://matplotlib.org/users/pyplot_tutorial.html.\n",
    "To achieve this, you will need to modify the function `get_degrees`.\n",
    "\n",
    "**Hint**: 1-CDF($k$) is defined as the probability that a randomly picked node has a degree _larger than or equal to $\\geq$_ $k$."
   ]
  },
  {
   "cell_type": "code",
   "execution_count": 14,
   "metadata": {
    "deletable": false,
    "nbgrader": {
     "cell_type": "code",
     "checksum": "439f0fb753993d3b94ded800cefbc74e",
     "grade": true,
     "grade_id": "cell-5beb38739f465f89",
     "locked": false,
     "points": 1,
     "schema_version": 3,
     "solution": true,
     "task": false
    }
   },
   "outputs": [],
   "source": [
    "def get_degrees(network):\n",
    "    \"\"\"\n",
    "    Returns a list of the degrees of all nodes in the network.\n",
    "\n",
    "    Parameters\n",
    "    ----------\n",
    "    network: a NetworkX graph object\n",
    "\n",
    "    Returns\n",
    "    -------\n",
    "    degrees: list\n",
    "        degrees of all network node\n",
    "    \"\"\"\n",
    "    degrees = [] # empty list\n",
    "    # YOUR CODE HERE\n",
    "    for node in nx.nodes(network):\n",
    "        degrees.append(network.degree(node))\n",
    "    #raise NotImplementedError()\n",
    "    #TODO: Fill in code to compute node degrees\n",
    "    # Hint: loop over all nodes, and append the degree of each node\n",
    "    # to the list 'degrees' by computing the number of neighbors each\n",
    "    # node has\n",
    "    return degrees"
   ]
  },
  {
   "cell_type": "code",
   "execution_count": 15,
   "metadata": {
    "deletable": false,
    "nbgrader": {
     "cell_type": "code",
     "checksum": "a38bc1c2adbcb5f61bb1391e7c072aab",
     "grade": true,
     "grade_id": "cell-39e2e49de871681e",
     "locked": false,
     "points": 0,
     "schema_version": 3,
     "solution": true,
     "task": false
    }
   },
   "outputs": [
    {
     "data": {
      "image/png": "[encoded data removed]",
      "text/plain": [
       "<Figure size 432x288 with 1 Axes>"
      ]
     },
     "metadata": {
      "needs_background": "light"
     },
     "output_type": "display_data"
    },
    {
     "data": {
      "image/png": "[encoded data removed]",
      "text/plain": [
       "<Figure size 432x288 with 1 Axes>"
      ]
     },
     "metadata": {
      "needs_background": "light"
     },
     "output_type": "display_data"
    }
   ],
   "source": [
    "#TODO: set correct labels for the degree distribution\n",
    "degree_distribution_x_label = 'Degree distribution' # replace\n",
    "degree_distribution_y_label = 'Node Probability' # replace \n",
    "\n",
    "# YOUR CODE HERE\n",
    "#raise NotImplementedError()\n",
    "\n",
    "degrees = get_degrees(network)\n",
    "fig = calculate_and_plot_discrete_distribution(degrees,degree_distribution_x_label,degree_distribution_y_label)\n",
    "\n",
    "degree_distribution_fig_fname = 'karate-club-degree-dist.pdf'\n",
    "fig.savefig(degree_distribution_fig_fname)\n",
    "\n",
    "#TODO: set correct labels for the 1-CDF\n",
    "cdf_x_label = 'complementary cumulative degree distribution' # replace\n",
    "cdf_y_label = 'Node Probability' # replace\n",
    "# YOUR CODE HERE\n",
    "#raise NotImplementedError()\n",
    "\n",
    "cdf_x_values, cdf_vals = cdf(degrees)\n",
    "fig = plot_distribution(1-cdf_vals, cdf_x_values, 'logplot',cdf_x_label, cdf_y_label) \n",
    "# 1-cdf is the so-called complementary cumulative distribution. \n",
    "\n",
    "ccdf_fig_fname = 'karate-club-degree-1-cdf.pdf'\n",
    "fig.savefig(ccdf_fig_fname)"
   ]
  },
  {
   "cell_type": "code",
   "execution_count": null,
   "metadata": {},
   "outputs": [],
   "source": []
  }
 ],
 "metadata": {
  "kernelspec": {
   "display_name": "Python 3",
   "language": "python",
   "name": "python3"
  },
  "language_info": {
   "codemirror_mode": {
    "name": "ipython",
    "version": 3
   },
   "file_extension": ".py",
   "mimetype": "text/x-python",
   "name": "python",
   "nbconvert_exporter": "python",
   "pygments_lexer": "ipython3",
   "version": "3.8.6"
  },
  "varInspector": {
   "cols": {
    "lenName": 16,
    "lenType": 16,
    "lenVar": 40
   },
   "kernels_config": {
    "python": {
     "delete_cmd_postfix": "",
     "delete_cmd_prefix": "del ",
     "library": "var_list.py",
     "varRefreshCmd": "print(var_dic_list())"
    },
    "r": {
     "delete_cmd_postfix": ") ",
     "delete_cmd_prefix": "rm(",
     "library": "var_list.r",
     "varRefreshCmd": "cat(var_dic_list()) "
    }
   },
   "types_to_exclude": [
    "module",
    "function",
    "builtin_function_or_method",
    "instance",
    "_Feature"
   ],
   "window_display": false
  }
 },
 "nbformat": 4,
 "nbformat_minor": 4
}
