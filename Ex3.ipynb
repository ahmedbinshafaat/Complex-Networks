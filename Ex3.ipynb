{
 "cells": [
  {
   "cell_type": "markdown",
   "metadata": {
    "deletable": false,
    "editable": false,
    "nbgrader": {
     "cell_type": "markdown",
     "checksum": "35f27d9c3a2e0bd242a4d36111ef64a7",
     "grade": false,
     "grade_id": "cell-808e659c1ccc7a95",
     "locked": true,
     "schema_version": 3,
     "solution": false,
     "task": false
    }
   },
   "source": [
    "# Round 2. Properties of Erdös-Rényi (ER) networks\n",
    "\n",
    "Erdös-Rényi networks are random networks where $N$ nodes are randomly connected such that the probability that a pair of nodes are linked is $p$. In network science, the ER random graphs are important because they provide the simplest reference to which one can compare real-world networks.\n",
    "\n",
    "In this exercise, we will analyze some of the properties of ER graphs.\n",
    "\n",
    "To get you started, you may use this notebook or the accompanying Python template `properties_of_er_networks.py` available in MyCourses. **The usage of the notebook or template is fully optional**. Then you only need to fill in the required functions. Some of the functions do NOT need modifications. You may start your solution after the subtitle \"**Begin of the Exercise**\" down below. "
   ]
  },
  {
   "cell_type": "markdown",
   "metadata": {
    "deletable": false,
    "editable": false,
    "nbgrader": {
     "cell_type": "markdown",
     "checksum": "44edf2f0a2fb9e7e1ea2555b1a643435",
     "grade": false,
     "grade_id": "cell-3f892941066e1b46",
     "locked": true,
     "schema_version": 3,
     "solution": false,
     "task": false
    }
   },
   "source": [
    "Use NetworkX to calculate estimates for the ensemble averages $\\left< k \\right>$, $\\left< c \\right>$, and $\\left< d^* \\right>$  defined in the Exercise 1 of the Assignment Round 2. Do this by generating 100 ER networks for each value of $p$ in range $p=\\left[0.00, 0.2, 0.4,0.6, 0.8, 1\\right]$ and $N=3$. An estimate for the ensemble average $\\left< X \\right>$ can be calculated for each value of $p$ by calculating the average value of $X$ over the 100 realisations. \n",
    "\n",
    "- Plot the quantities, such that $p$ values are on the x-axis and $\\left< X \\right>$ values are on the y-axis. If you solved Exercise 1 (Assignment Round 2), you can check the correctness of your results by including your analytical solution to these plots. \n",
    "- Repeat the same exercise with $N=100$.\n",
    "\n",
    "You would need to modify the functions `ER_properties` and `ER_properties_theoretical` for this purpose. The figures will be automatically saved in the notebook folder.\n",
    "\n",
    "**Hints**:\n",
    "- You can use the function `nx.fast_gnp_random_graph(N, p)` for generating ER networks.\n",
    "- You can use the function `nx.diameter()` to calculate the diameter of a network. However, this function only accepts graphs that have a single connected component. Use the function `nx.connected_component_subgraphs()` to iterate over the components, calculate the diameter for each of them, and find the largest value $d^*$."
   ]
  },
  {
   "cell_type": "code",
   "execution_count": 1,
   "metadata": {
    "deletable": false,
    "editable": false,
    "nbgrader": {
     "cell_type": "code",
     "checksum": "ae3c9ce091e7da15b0337e13a5a6d9b7",
     "grade": false,
     "grade_id": "cell-6d9ee7e9bb776cd8",
     "locked": true,
     "schema_version": 3,
     "solution": false,
     "task": false
    }
   },
   "outputs": [],
   "source": [
    "import sys\n",
    "import numpy as np\n",
    "import networkx as nx\n",
    "import matplotlib.pyplot as plt"
   ]
  },
  {
   "cell_type": "code",
   "execution_count": 2,
   "metadata": {
    "deletable": false,
    "editable": false,
    "nbgrader": {
     "cell_type": "code",
     "checksum": "08f33e7badbe2932cd89d04143b01621",
     "grade": false,
     "grade_id": "cell-c45c957de31b5f64",
     "locked": true,
     "schema_version": 3,
     "solution": false,
     "task": false
    }
   },
   "outputs": [],
   "source": [
    "def plot_er_values(n, p_list):\n",
    "    '''\n",
    "    This function calculates the theoretical clustering coefficient, average\n",
    "    degree and diameter for ER network with parameters n and p and plots them\n",
    "    against the expected values from an ensemble of 100 realizations.\n",
    "\n",
    "    Parameters\n",
    "    ----------\n",
    "    n : int\n",
    "      Number of nodes\n",
    "    p_list : list of floats\n",
    "      where each member is the probability that a pair of nodes are linked.\n",
    "\n",
    "    Returns\n",
    "    -------\n",
    "    fig: matplotlib Figure\n",
    "                plots of expected values against theoretical values\n",
    "    '''\n",
    "\n",
    "    k_list = [] # list for degrees\n",
    "    c_list = [] # list for clustering coeff values\n",
    "    d_list = [] # list for diameter values\n",
    "    c_list_theory = []\n",
    "    k_list_theory = []\n",
    "    d_list_theory = []\n",
    "\n",
    "    for p in p_list:\n",
    "        print(\"calculating for n=%d p=%f\" % (n, p), file=sys.stderr)\n",
    "        average_c, average_k, average_d = ER_properties(n, p)\n",
    "        k_list.append(average_k)\n",
    "        c_list.append(average_c)\n",
    "        d_list.append(average_d)\n",
    "\n",
    "        if n == 3:\n",
    "            c_theory, k_theory, d_theory = ER_properties_theoretical(p)\n",
    "            c_list_theory.append(c_theory)\n",
    "            k_list_theory.append(k_theory)\n",
    "            d_list_theory.append(d_theory)\n",
    "\n",
    "    fig = plt.figure(figsize=(8,5))\n",
    "    ax = fig.add_subplot(1, 3, 1) # Three subplots for <K>, <C> and <d*> [(1,3,1) means 1 row, three columns, first subplot)\n",
    "\n",
    "    ax.plot(p_list, c_list, 'r-', label=\"Simulated\", marker='o')\n",
    "    if len(c_list_theory) > 0 and c_list_theory[0] is not None:\n",
    "        ax.plot(p_list, c_list_theory, 'b-', label=\"Theoretical\", marker='o')\n",
    "    ax.set_xlabel('p')\n",
    "    ax.set_ylabel('Clustering coefficient')\n",
    "    ax.legend(loc=0)\n",
    "    ax.set_title('N = %d' % n, size=18)\n",
    "\n",
    "    ax2 = fig.add_subplot(1, 3, 2)\n",
    "    ax2.plot(p_list, k_list, 'r-', label=\"Simulated\", marker='o')\n",
    "    if len(k_list_theory) > 0 and k_list_theory[0] is not None:\n",
    "        ax2.plot(p_list, k_list_theory, 'b-', label=\"Theoretical\", marker='o')\n",
    "    ax2.set_xlabel('p')\n",
    "    ax2.set_ylabel('Average degree')\n",
    "    ax2.legend(loc=0)\n",
    "\n",
    "    ax3 = fig.add_subplot(1, 3, 3)\n",
    "    ax3.plot(p_list, d_list, 'r-', label=\"Simulated\", marker='o')\n",
    "    if len(d_list_theory) > 0 and d_list_theory[0] is not None:\n",
    "        ax3.plot(p_list, d_list_theory, 'b-', label=\"Theoretical\", marker='o')\n",
    "    ax3.set_xlabel('p')\n",
    "    ax3.set_ylabel('Diameter')\n",
    "    ax3.legend(loc=0)\n",
    "\n",
    "    fig.tight_layout()\n",
    "\n",
    "    return fig"
   ]
  },
  {
   "cell_type": "markdown",
   "metadata": {
    "deletable": false,
    "editable": false,
    "nbgrader": {
     "cell_type": "markdown",
     "checksum": "9c1a6685a318b0eb4c72f08edde95205",
     "grade": false,
     "grade_id": "cell-fc89b40662449a61",
     "locked": true,
     "schema_version": 3,
     "solution": false,
     "task": false
    }
   },
   "source": [
    "# Begin of the Exercise\n",
    "Write your code here to analyze some of the properties of ER graphs."
   ]
  },
  {
   "cell_type": "code",
   "execution_count": 3,
   "metadata": {
    "deletable": false,
    "nbgrader": {
     "cell_type": "code",
     "checksum": "094c8d9f5e607c1c5cb8eb423c58e7ac",
     "grade": true,
     "grade_id": "cell-c5afa3394da8eddc",
     "locked": false,
     "points": 0,
     "schema_version": 3,
     "solution": true,
     "task": false
    }
   },
   "outputs": [],
   "source": [
    "def ER_properties(n, p):\n",
    "    '''\n",
    "    This function builds 100 ER networks with the given parameters and averages\n",
    "    over them to estimate the expected values of average clustering coefficient,\n",
    "    average degree and diameter of an ER network with the given parameters. The\n",
    "    diameter is always computed for the largest (\"giant\") connected component.\n",
    "\n",
    "    Parameters\n",
    "    ----------\n",
    "    n : int\n",
    "      Number of nodes\n",
    "    p : float\n",
    "      the probability that a pair of nodes are linked is p.\n",
    "\n",
    "    Returns\n",
    "    -------\n",
    "    expected_c: float\n",
    "                expected value of average clustering coefficient\n",
    "    expected_k: float\n",
    "                expected value of average degree\n",
    "    expected_d: float\n",
    "    expected value of d*\n",
    "\n",
    "\n",
    "\n",
    "    Hints:\n",
    "        The following functions might be useful:\n",
    "        nx.fast_gnp_random_graph(n, p),\n",
    "        nx.average_clustering(graph, count_zeros=True),\n",
    "        nx.connected_component_subgraphs(graph),\n",
    "        nx.diameter(giant)\n",
    "\n",
    "        nx.connected_component_subgraphs gives you a list of subgraphs\n",
    "        To pick the largest, the fastest way is to use max with a key: max(x,key=len)\n",
    "        returns the longest/largest element of the list x\n",
    "\n",
    "        For computing averages over realizations, you can e.g. collect your\n",
    "        values to three lists, c,k,d, and use np.mean to get the average.\n",
    "    '''\n",
    "    \n",
    "    expected_c = 0 # change these!\n",
    "    expected_k = 0 # change these!\n",
    "    expected_d = 0 # change these!\n",
    "    \n",
    "    for i in range(100):\n",
    "        graph=nx.fast_gnp_random_graph(n, p,directed=False)\n",
    "        expected_c = nx.average_clustering(graph, count_zeros=True)  # change these!\n",
    "        k=0\n",
    "        for node in graph.nodes:\n",
    "            k=k+len(graph.adj[node])\n",
    "            expected_k+=k/n\n",
    "        max_d=0\n",
    "        for c in nx.connected_components(graph):\n",
    "            d=nx.diameter(graph.subgraph(c))\n",
    "            if(d>max_d):\n",
    "                max_d=d\n",
    "        expected_d+=max_d\n",
    "        expected_k /= 100\n",
    "        expected_c /= 100\n",
    "        expected_d /= 100\n",
    "    # YOUR CODE HERE\n",
    "    #raise NotImplementedError()\n",
    "\n",
    "    return expected_c, expected_k, expected_d"
   ]
  },
  {
   "cell_type": "code",
   "execution_count": 4,
   "metadata": {
    "deletable": false,
    "nbgrader": {
     "cell_type": "code",
     "checksum": "ab7d7159f354333a1d7a4d9ccd85aea9",
     "grade": true,
     "grade_id": "cell-da1d164bb682eb63",
     "locked": false,
     "points": 0,
     "schema_version": 3,
     "solution": true,
     "task": false
    }
   },
   "outputs": [],
   "source": [
    "def ER_properties_theoretical(p):\n",
    "    '''\n",
    "    This function calculates the theoretical values for clustering coefficients,\n",
    "    average degree, and diameter for ER networks of size 3 and link probability p.\n",
    "    The theoretical values can be viewed as expectations, or ensemble averages.\n",
    "    Therefore, e.g., the expected diameter doesn't have to be integer, although it of\n",
    "    course always is for a single ER network.\n",
    "\n",
    "    Parameters\n",
    "    ----------\n",
    "    p : float\n",
    "      the probability that a pair of nodes are linked is p.\n",
    "\n",
    "    Returns\n",
    "    -------\n",
    "    c_theory: float\n",
    "                theoretical value of average clustering coefficient\n",
    "    k_theory: float\n",
    "                theoretical value of average degree\n",
    "    d_theory: float\n",
    "                Theoretical value of diameter\n",
    "    '''\n",
    "    # Calculate the theoretical values for and ER network with parameters n, p\n",
    "    c_theory = p * p * p\n",
    "    k_theory = 2 * p\n",
    "    d_theory = 3 * p - 2 * p * p * p\n",
    "    # YOUR CODE HERE\n",
    "    #raise NotImplementedError()\n",
    "    return c_theory, k_theory, d_theory"
   ]
  },
  {
   "cell_type": "code",
   "execution_count": 5,
   "metadata": {
    "deletable": false,
    "editable": false,
    "nbgrader": {
     "cell_type": "code",
     "checksum": "c7a90bf9f5e8c3c120c8880d18838890",
     "grade": false,
     "grade_id": "cell-015f6d8cca42c7bf",
     "locked": true,
     "schema_version": 3,
     "solution": false,
     "task": false
    }
   },
   "outputs": [
    {
     "name": "stderr",
     "output_type": "stream",
     "text": [
      "calculating for n=3 p=0.000000\n",
      "calculating for n=3 p=0.200000\n",
      "calculating for n=3 p=0.400000\n",
      "calculating for n=3 p=0.600000\n",
      "calculating for n=3 p=0.800000\n",
      "calculating for n=3 p=1.000000\n",
      "calculating for n=100 p=0.000000\n",
      "calculating for n=100 p=0.200000\n",
      "calculating for n=100 p=0.400000\n",
      "calculating for n=100 p=0.600000\n",
      "calculating for n=100 p=0.800000\n",
      "calculating for n=100 p=1.000000\n"
     ]
    },
    {
     "data": {
      "image/png": "[encoded data removed]",
      "text/plain": [
       "<Figure size 576x360 with 3 Axes>"
      ]
     },
     "metadata": {
      "needs_background": "light"
     },
     "output_type": "display_data"
    },
    {
     "data": {
      "image/png": "[encoded data removed]",
      "text/plain": [
       "<Figure size 576x360 with 3 Axes>"
      ]
     },
     "metadata": {
      "needs_background": "light"
     },
     "output_type": "display_data"
    }
   ],
   "source": [
    "ps = np.arange(0, 1.01, 0.2)\n",
    "\n",
    "fig = plot_er_values(n=3, p_list=ps)\n",
    "\n",
    "figure_filename = './ER_properties_3_nodes.pdf'\n",
    "fig.savefig(figure_filename)\n",
    "# or just use plt.show() and save manually\n",
    "\n",
    "\n",
    "# Do the same steps (calculation and visulization) for n=100\n",
    "fig = plot_er_values(n=100, p_list=ps)\n",
    "\n",
    "figure_filename = './ER_properties_100_nodes.pdf'\n",
    "fig.savefig(figure_filename)\n",
    "# or just use plt.show() and save manually"
   ]
  },
  {
   "cell_type": "code",
   "execution_count": null,
   "metadata": {},
   "outputs": [],
   "source": []
  }
 ],
 "metadata": {
  "kernelspec": {
   "display_name": "Python 3",
   "language": "python",
   "name": "python3"
  },
  "language_info": {
   "codemirror_mode": {
    "name": "ipython",
    "version": 3
   },
   "file_extension": ".py",
   "mimetype": "text/x-python",
   "name": "python",
   "nbconvert_exporter": "python",
   "pygments_lexer": "ipython3",
   "version": "3.8.6"
  },
  "varInspector": {
   "cols": {
    "lenName": 16,
    "lenType": 16,
    "lenVar": 40
   },
   "kernels_config": {
    "python": {
     "delete_cmd_postfix": "",
     "delete_cmd_prefix": "del ",
     "library": "var_list.py",
     "varRefreshCmd": "print(var_dic_list())"
    },
    "r": {
     "delete_cmd_postfix": ") ",
     "delete_cmd_prefix": "rm(",
     "library": "var_list.r",
     "varRefreshCmd": "cat(var_dic_list()) "
    }
   },
   "types_to_exclude": [
    "module",
    "function",
    "builtin_function_or_method",
    "instance",
    "_Feature"
   ],
   "window_display": false
  }
 },
 "nbformat": 4,
 "nbformat_minor": 4
}
